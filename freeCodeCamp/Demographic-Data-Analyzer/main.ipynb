{
 "cells": [
  {
   "cell_type": "markdown",
   "id": "92e33007-6819-46e6-a5a7-f32e83649726",
   "metadata": {},
   "source": [
    "## Set Up"
   ]
  },
  {
   "cell_type": "code",
   "execution_count": 104,
   "id": "c653cfe6-65d9-442e-867a-3661a758a969",
   "metadata": {},
   "outputs": [],
   "source": [
    "import pandas as pd\n",
    "\n",
    "path = \"./adult.data.csv\"\n",
    "df = pd.read_csv(path)"
   ]
  },
  {
   "cell_type": "code",
   "execution_count": 105,
   "id": "2ac58a37-f0b5-4612-8e83-08e17b62cab9",
   "metadata": {},
   "outputs": [
    {
     "data": {
      "text/plain": [
       "Index(['age', 'workclass', 'fnlwgt', 'education', 'education-num',\n",
       "       'marital-status', 'occupation', 'relationship', 'race', 'sex',\n",
       "       'capital-gain', 'capital-loss', 'hours-per-week', 'native-country',\n",
       "       'salary'],\n",
       "      dtype='object')"
      ]
     },
     "execution_count": 105,
     "metadata": {},
     "output_type": "execute_result"
    }
   ],
   "source": [
    "df.columns"
   ]
  },
  {
   "cell_type": "markdown",
   "id": "793da834-c607-4efd-b8d8-4fdc422370d1",
   "metadata": {},
   "source": [
    "#### Q1: How many people of each race are represented in this dataset? This should be a Pandas series with race names as the index labels. (race column)"
   ]
  },
  {
   "cell_type": "code",
   "execution_count": 106,
   "id": "435b5672-c00b-4190-aae9-63949cb083fa",
   "metadata": {},
   "outputs": [
    {
     "data": {
      "text/plain": [
       "race\n",
       "White                 27816\n",
       "Black                  3124\n",
       "Asian-Pac-Islander     1039\n",
       "Amer-Indian-Eskimo      311\n",
       "Other                   271\n",
       "Name: race, dtype: int64"
      ]
     },
     "execution_count": 106,
     "metadata": {},
     "output_type": "execute_result"
    }
   ],
   "source": [
    "df.groupby(\"race\")[\"race\"].count().sort_values(ascending=False)"
   ]
  },
  {
   "cell_type": "markdown",
   "id": "6a7b4ce4-4e20-4994-a8f1-46640b79b2c1",
   "metadata": {},
   "source": [
    "#### Q2: What is the average age of men?"
   ]
  },
  {
   "cell_type": "code",
   "execution_count": 11,
   "id": "a4c46c32-e8f7-4ff7-ae5d-f34acf8210df",
   "metadata": {},
   "outputs": [
    {
     "data": {
      "text/plain": [
       "sex\n",
       "Female    36.858230\n",
       "Male      39.433547\n",
       "Name: age, dtype: float64"
      ]
     },
     "execution_count": 11,
     "metadata": {},
     "output_type": "execute_result"
    }
   ],
   "source": [
    "df.groupby(\"sex\")[\"age\"].mean()"
   ]
  },
  {
   "cell_type": "markdown",
   "id": "d7f84f7d-3672-4019-8036-090ace74a8d8",
   "metadata": {},
   "source": [
    "#### Q3: What is the percentage of people who have a Bachelor's degree?"
   ]
  },
  {
   "cell_type": "code",
   "execution_count": 14,
   "id": "d7e3e5b9-fed0-4fc7-a30b-980f6293cdf2",
   "metadata": {},
   "outputs": [
    {
     "data": {
      "text/plain": [
       "HS-grad         10501\n",
       "Some-college     7291\n",
       "Bachelors        5355\n",
       "Masters          1723\n",
       "Assoc-voc        1382\n",
       "11th             1175\n",
       "Assoc-acdm       1067\n",
       "10th              933\n",
       "7th-8th           646\n",
       "Prof-school       576\n",
       "9th               514\n",
       "12th              433\n",
       "Doctorate         413\n",
       "5th-6th           333\n",
       "1st-4th           168\n",
       "Preschool          51\n",
       "Name: education, dtype: int64"
      ]
     },
     "execution_count": 14,
     "metadata": {},
     "output_type": "execute_result"
    }
   ],
   "source": [
    "df.education.value_counts()"
   ]
  },
  {
   "cell_type": "code",
   "execution_count": 84,
   "id": "3caf328d-cfec-4c3c-ba57-fe5ca1476606",
   "metadata": {},
   "outputs": [
    {
     "data": {
      "text/plain": [
       "16.292451060103822"
      ]
     },
     "execution_count": 84,
     "metadata": {},
     "output_type": "execute_result"
    }
   ],
   "source": [
    "df[df.education == \"Bachelors\"].shape[0] / len(df) * 100"
   ]
  },
  {
   "cell_type": "markdown",
   "id": "eecf69ac-7ce3-4dd4-b234-09dec5fd7957",
   "metadata": {},
   "source": [
    "#### Q4: What percentage of people with advanced education (Bachelors, Masters, or Doctorate) make more than 50K?"
   ]
  },
  {
   "cell_type": "code",
   "execution_count": 107,
   "id": "2128f0ae-d838-49fd-b5c7-040cd4bd372e",
   "metadata": {},
   "outputs": [
    {
     "data": {
      "text/plain": [
       "array(['<=50K', '>50K'], dtype=object)"
      ]
     },
     "execution_count": 107,
     "metadata": {},
     "output_type": "execute_result"
    }
   ],
   "source": [
    "df.salary.unique()"
   ]
  },
  {
   "cell_type": "code",
   "execution_count": 130,
   "id": "f59f9f5d-c17c-40f3-b15b-baef656d1fe6",
   "metadata": {},
   "outputs": [
    {
     "data": {
      "text/plain": [
       "23.006050182733944"
      ]
     },
     "execution_count": 130,
     "metadata": {},
     "output_type": "execute_result"
    }
   ],
   "source": [
    "# percentage of higher edu \n",
    "higher_edu = df[df.education.isin([\"Bachelors\", \"Masters\", \"Doctorate\"])] \n",
    "higher_edu_count = higher_edu.shape[0] \n",
    "higher_edu_count / df.shape[0] * 100"
   ]
  },
  {
   "cell_type": "code",
   "execution_count": 150,
   "id": "939c33e1-75bf-4775-b6f0-bfeedd79ae0b",
   "metadata": {},
   "outputs": [
    {
     "data": {
      "text/plain": [
       "46.535843011613935"
      ]
     },
     "execution_count": 150,
     "metadata": {},
     "output_type": "execute_result"
    }
   ],
   "source": [
    "# percentage of higher edu and >50k\n",
    "higher_edu_rich = df[(df.education.isin([\"Bachelors\", \"Masters\", \"Doctorate\"])) & (df.salary == \">50K\")]\n",
    "higher_edu_rich.shape[0] / higher_edu_count * 100"
   ]
  },
  {
   "cell_type": "markdown",
   "id": "88c4324e-b384-4daa-9410-085887bec68f",
   "metadata": {},
   "source": [
    "#### Q5: What percentage of people without advanced education make more than 50K?"
   ]
  },
  {
   "cell_type": "code",
   "execution_count": 152,
   "id": "edf5a4f6-70e6-422c-bea8-804af499397f",
   "metadata": {},
   "outputs": [
    {
     "data": {
      "text/plain": [
       "25070"
      ]
     },
     "execution_count": 152,
     "metadata": {},
     "output_type": "execute_result"
    }
   ],
   "source": [
    "# percentage of lower edu\n",
    "lower_edu = df[~df.education.isin([\"Bachelors\", \"Masters\", \"Doctorate\"])]\n",
    "lower_edu_count = lower_edu.shape[0]\n",
    "lower_edu_count"
   ]
  },
  {
   "cell_type": "code",
   "execution_count": 153,
   "id": "385d6d06-5211-4963-b18a-9491dbba967d",
   "metadata": {},
   "outputs": [
    {
     "data": {
      "text/plain": [
       "17.3713601914639"
      ]
     },
     "execution_count": 153,
     "metadata": {},
     "output_type": "execute_result"
    }
   ],
   "source": [
    "# percentage of lower edu and >50k\n",
    "lower_edu_rich = df[(~df.education.isin([\"Bachelors\", \"Masters\", \"Doctorate\"])) & (df.salary == \">50K\")]\n",
    "lower_edu_rich.shape[0] / lower_edu_count * 100"
   ]
  },
  {
   "cell_type": "markdown",
   "id": "bef18164-b296-4e57-8830-ad027929c031",
   "metadata": {},
   "source": [
    "#### Q6: What is the minimum number of hours a person works per week?"
   ]
  },
  {
   "cell_type": "code",
   "execution_count": 43,
   "id": "d491d29d-f05d-4273-9136-3efb17934819",
   "metadata": {},
   "outputs": [
    {
     "name": "stdout",
     "output_type": "stream",
     "text": [
      "1\n"
     ]
    }
   ],
   "source": [
    "min_hour_per_week = df[\"hours-per-week\"].min()\n",
    "print(min_hour_per_week)"
   ]
  },
  {
   "cell_type": "markdown",
   "id": "98f9f70f-6d1d-478d-8328-e32882a981bc",
   "metadata": {},
   "source": [
    "#### Q7: What percentage of the people who work the minimum number of hours per week have a salary of more than 50K?"
   ]
  },
  {
   "cell_type": "code",
   "execution_count": 155,
   "id": "680a4fde-e431-45cc-bd1e-eb2e7cd40bb8",
   "metadata": {},
   "outputs": [
    {
     "data": {
      "text/plain": [
       "20"
      ]
     },
     "execution_count": 155,
     "metadata": {},
     "output_type": "execute_result"
    }
   ],
   "source": [
    "work_min_hr = df[df[\"hours-per-week\"] == min_hour_per_week]\n",
    "work_min_hr_count = work_min_hr.shape[0] \n",
    "work_min_hr_count"
   ]
  },
  {
   "cell_type": "code",
   "execution_count": 156,
   "id": "5f415ad3-dee3-499b-81d7-3d8583e18ed0",
   "metadata": {},
   "outputs": [
    {
     "data": {
      "text/plain": [
       "10.0"
      ]
     },
     "execution_count": 156,
     "metadata": {},
     "output_type": "execute_result"
    }
   ],
   "source": [
    "df_min_hour_above_50k = work_min_hr[ work_min_hr.salary == \">50K\" ]\n",
    "df_min_hour_above_50k.shape[0] / work_min_hr_count * 100"
   ]
  },
  {
   "cell_type": "markdown",
   "id": "40479e04-1c96-4111-9e38-2e19d018c6d9",
   "metadata": {},
   "source": [
    "#### Q8: What country has the highest percentage of people that earn >50K and what is that percentage?"
   ]
  },
  {
   "cell_type": "code",
   "execution_count": 185,
   "id": "606fba88-bd78-4080-8caa-a546c27c8057",
   "metadata": {},
   "outputs": [],
   "source": [
    "# number of ppl per country\n",
    "ppl_country = df.groupby(\"native-country\")[\"salary\"].count()\n",
    "ppl_country.sort_values(ascending=False, inplace=True)\n",
    "\n",
    "# number of ppl with >50k per country\n",
    "more_than_50k = df[df.salary == \">50k\"]\n",
    "more_than_50k_per_country = more_50k.groupby(\"native-country\")[\"salary\"].count()\n",
    "more_than_50k_per_country.sort_values(ascending=False, inplace=True)\n",
    "\n",
    "# percentage\n",
    "p = more_than_50k_per_country / ppl_country * 100\n",
    "p.sort_values(ascending=False, inplace=True)"
   ]
  },
  {
   "cell_type": "code",
   "execution_count": 186,
   "id": "4758bc98-5451-486f-a6e9-0d5b4f767410",
   "metadata": {},
   "outputs": [
    {
     "data": {
      "text/plain": [
       "native-country\n",
       "Iran      41.860465\n",
       "France    41.379310\n",
       "India     40.000000\n",
       "Taiwan    39.215686\n",
       "Japan     38.709677\n",
       "Name: salary, dtype: float64"
      ]
     },
     "execution_count": 186,
     "metadata": {},
     "output_type": "execute_result"
    }
   ],
   "source": [
    "p.head()"
   ]
  },
  {
   "cell_type": "code",
   "execution_count": 178,
   "id": "94fb3c76-c7ea-41ee-ba80-7ac089a191df",
   "metadata": {},
   "outputs": [
    {
     "data": {
      "text/plain": [
       "native-country\n",
       "United-States         7171\n",
       "?                      146\n",
       "Philippines             61\n",
       "Germany                 44\n",
       "India                   40\n",
       "Canada                  39\n",
       "Mexico                  33\n",
       "England                 30\n",
       "Italy                   25\n",
       "Cuba                    25\n",
       "Japan                   24\n",
       "China                   20\n",
       "Taiwan                  20\n",
       "Iran                    18\n",
       "South                   16\n",
       "Poland                  12\n",
       "France                  12\n",
       "Puerto-Rico             12\n",
       "Jamaica                 10\n",
       "El-Salvador              9\n",
       "Greece                   8\n",
       "Cambodia                 7\n",
       "Yugoslavia               6\n",
       "Hong                     6\n",
       "Ireland                  5\n",
       "Vietnam                  5\n",
       "Ecuador                  4\n",
       "Haiti                    4\n",
       "Portugal                 4\n",
       "Scotland                 3\n",
       "Thailand                 3\n",
       "Hungary                  3\n",
       "Guatemala                3\n",
       "Laos                     2\n",
       "Dominican-Republic       2\n",
       "Peru                     2\n",
       "Trinadad&Tobago          2\n",
       "Columbia                 2\n",
       "Nicaragua                2\n",
       "Honduras                 1\n",
       "Name: salary, dtype: int64"
      ]
     },
     "execution_count": 178,
     "metadata": {},
     "output_type": "execute_result"
    }
   ],
   "source": [
    "more_than_50k_per_country"
   ]
  },
  {
   "cell_type": "markdown",
   "id": "53f4f55e-3142-410c-8821-38200376af63",
   "metadata": {},
   "source": [
    "#### Q9: Identify the most popular occupation for those who earn >50K in India."
   ]
  },
  {
   "cell_type": "code",
   "execution_count": 79,
   "id": "e11456be-2ec9-44c4-9257-b35dca8baf26",
   "metadata": {},
   "outputs": [
    {
     "data": {
      "text/plain": [
       "occupation\n",
       "Prof-specialty      25\n",
       "Exec-managerial      8\n",
       "Other-service        2\n",
       "Tech-support         2\n",
       "Adm-clerical         1\n",
       "Sales                1\n",
       "Transport-moving     1\n",
       "Name: occupation, dtype: int64"
      ]
     },
     "execution_count": 79,
     "metadata": {},
     "output_type": "execute_result"
    }
   ],
   "source": [
    "filtered = df[ (df[\"native-country\"] == \"India\") & (df.salary == \">50K\")]\n",
    "filtered = filtered.groupby(\"occupation\")[\"occupation\"].count()\n",
    "filtered.sort_values(inplace=True, ascending=False)\n",
    "filtered"
   ]
  }
 ],
 "metadata": {
  "kernelspec": {
   "display_name": "Python 3 (ipykernel)",
   "language": "python",
   "name": "python3"
  },
  "language_info": {
   "codemirror_mode": {
    "name": "ipython",
    "version": 3
   },
   "file_extension": ".py",
   "mimetype": "text/x-python",
   "name": "python",
   "nbconvert_exporter": "python",
   "pygments_lexer": "ipython3",
   "version": "3.10.0"
  }
 },
 "nbformat": 4,
 "nbformat_minor": 5
}
