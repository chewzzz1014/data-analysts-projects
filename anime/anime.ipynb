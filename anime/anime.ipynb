{
 "cells": [
  {
   "cell_type": "code",
   "execution_count": 1,
   "id": "8ef37e80",
   "metadata": {
    "_cell_guid": "b1076dfc-b9ad-4769-8c92-a6c4dae69d19",
    "_kg_hide-input": true,
    "_uuid": "8f2839f25d086af736a60e9eeb907d3b93b6e0e5",
    "execution": {
     "iopub.execute_input": "2022-03-25T08:32:50.471342Z",
     "iopub.status.busy": "2022-03-25T08:32:50.470295Z",
     "iopub.status.idle": "2022-03-25T08:32:50.484780Z",
     "shell.execute_reply": "2022-03-25T08:32:50.485635Z",
     "shell.execute_reply.started": "2022-03-25T07:14:27.282749Z"
    },
    "papermill": {
     "duration": 0.049271,
     "end_time": "2022-03-25T08:32:50.486014",
     "exception": false,
     "start_time": "2022-03-25T08:32:50.436743",
     "status": "completed"
    },
    "tags": []
   },
   "outputs": [
    {
     "name": "stdout",
     "output_type": "stream",
     "text": [
      "/kaggle/input/anime-recommendations-database/rating.csv\n",
      "/kaggle/input/anime-recommendations-database/anime.csv\n"
     ]
    }
   ],
   "source": [
    "# This Python 3 environment comes with many helpful analytics libraries installed\n",
    "# It is defined by the kaggle/python Docker image: https://github.com/kaggle/docker-python\n",
    "# For example, here's several helpful packages to load\n",
    "\n",
    "import numpy as np # linear algebra\n",
    "import pandas as pd # data processing, CSV file I/O (e.g. pd.read_csv)\n",
    "\n",
    "# Input data files are available in the read-only \"../input/\" directory\n",
    "# For example, running this (by clicking run or pressing Shift+Enter) will list all files under the input directory\n",
    "\n",
    "import os\n",
    "for dirname, _, filenames in os.walk('/kaggle/input'):\n",
    "    for filename in filenames:\n",
    "        print(os.path.join(dirname, filename))\n",
    "\n",
    "# You can write up to 20GB to the current directory (/kaggle/working/) that gets preserved as output when you create a version using \"Save & Run All\" \n",
    "# You can also write temporary files to /kaggle/temp/, but they won't be saved outside of the current session"
   ]
  },
  {
   "cell_type": "markdown",
   "id": "29497102",
   "metadata": {
    "papermill": {
     "duration": 0.029644,
     "end_time": "2022-03-25T08:32:50.547808",
     "exception": false,
     "start_time": "2022-03-25T08:32:50.518164",
     "status": "completed"
    },
    "tags": []
   },
   "source": [
    "# **Goal: Determine which anime genre and anime type has highest rating.**"
   ]
  },
  {
   "cell_type": "code",
   "execution_count": 2,
   "id": "8001aaa4",
   "metadata": {
    "execution": {
     "iopub.execute_input": "2022-03-25T08:32:50.613366Z",
     "iopub.status.busy": "2022-03-25T08:32:50.612793Z",
     "iopub.status.idle": "2022-03-25T08:32:52.027329Z",
     "shell.execute_reply": "2022-03-25T08:32:52.027885Z",
     "shell.execute_reply.started": "2022-03-25T07:44:16.376868Z"
    },
    "papermill": {
     "duration": 1.448974,
     "end_time": "2022-03-25T08:32:52.028059",
     "exception": false,
     "start_time": "2022-03-25T08:32:50.579085",
     "status": "completed"
    },
    "tags": []
   },
   "outputs": [],
   "source": [
    "import pandas as pd \n",
    "import numpy as np\n",
    "import matplotlib.pyplot as plt\n",
    "import seaborn as sns\n",
    "import missingno as msno\n",
    "from sklearn.ensemble import RandomForestRegressor"
   ]
  },
  {
   "cell_type": "code",
   "execution_count": 3,
   "id": "be034682",
   "metadata": {
    "execution": {
     "iopub.execute_input": "2022-03-25T08:32:52.094633Z",
     "iopub.status.busy": "2022-03-25T08:32:52.093885Z",
     "iopub.status.idle": "2022-03-25T08:32:54.411780Z",
     "shell.execute_reply": "2022-03-25T08:32:54.411182Z",
     "shell.execute_reply.started": "2022-03-25T07:14:27.322031Z"
    },
    "papermill": {
     "duration": 2.352854,
     "end_time": "2022-03-25T08:32:54.411922",
     "exception": false,
     "start_time": "2022-03-25T08:32:52.059068",
     "status": "completed"
    },
    "tags": []
   },
   "outputs": [],
   "source": [
    "anime = pd.read_csv(\"../input/anime-recommendations-database/anime.csv\")\n",
    "rating = pd.read_csv(\"../input/anime-recommendations-database/rating.csv\")"
   ]
  },
  {
   "cell_type": "markdown",
   "id": "04e95414",
   "metadata": {
    "papermill": {
     "duration": 0.029315,
     "end_time": "2022-03-25T08:32:54.473687",
     "exception": false,
     "start_time": "2022-03-25T08:32:54.444372",
     "status": "completed"
    },
    "tags": []
   },
   "source": [
    "# **Data Preprocessing: anime Data Set**"
   ]
  },
  {
   "cell_type": "code",
   "execution_count": 4,
   "id": "7e119e20",
   "metadata": {
    "execution": {
     "iopub.execute_input": "2022-03-25T08:32:54.536150Z",
     "iopub.status.busy": "2022-03-25T08:32:54.535565Z",
     "iopub.status.idle": "2022-03-25T08:32:54.554531Z",
     "shell.execute_reply": "2022-03-25T08:32:54.554954Z",
     "shell.execute_reply.started": "2022-03-25T07:14:28.828464Z"
    },
    "papermill": {
     "duration": 0.051709,
     "end_time": "2022-03-25T08:32:54.555123",
     "exception": false,
     "start_time": "2022-03-25T08:32:54.503414",
     "status": "completed"
    },
    "tags": []
   },
   "outputs": [
    {
     "data": {
      "text/html": [
       "<div>\n",
       "<style scoped>\n",
       "    .dataframe tbody tr th:only-of-type {\n",
       "        vertical-align: middle;\n",
       "    }\n",
       "\n",
       "    .dataframe tbody tr th {\n",
       "        vertical-align: top;\n",
       "    }\n",
       "\n",
       "    .dataframe thead th {\n",
       "        text-align: right;\n",
       "    }\n",
       "</style>\n",
       "<table border=\"1\" class=\"dataframe\">\n",
       "  <thead>\n",
       "    <tr style=\"text-align: right;\">\n",
       "      <th></th>\n",
       "      <th>anime_id</th>\n",
       "      <th>name</th>\n",
       "      <th>genre</th>\n",
       "      <th>type</th>\n",
       "      <th>episodes</th>\n",
       "      <th>rating</th>\n",
       "      <th>members</th>\n",
       "    </tr>\n",
       "  </thead>\n",
       "  <tbody>\n",
       "    <tr>\n",
       "      <th>0</th>\n",
       "      <td>32281</td>\n",
       "      <td>Kimi no Na wa.</td>\n",
       "      <td>Drama, Romance, School, Supernatural</td>\n",
       "      <td>Movie</td>\n",
       "      <td>1</td>\n",
       "      <td>9.37</td>\n",
       "      <td>200630</td>\n",
       "    </tr>\n",
       "    <tr>\n",
       "      <th>1</th>\n",
       "      <td>5114</td>\n",
       "      <td>Fullmetal Alchemist: Brotherhood</td>\n",
       "      <td>Action, Adventure, Drama, Fantasy, Magic, Mili...</td>\n",
       "      <td>TV</td>\n",
       "      <td>64</td>\n",
       "      <td>9.26</td>\n",
       "      <td>793665</td>\n",
       "    </tr>\n",
       "    <tr>\n",
       "      <th>2</th>\n",
       "      <td>28977</td>\n",
       "      <td>Gintama°</td>\n",
       "      <td>Action, Comedy, Historical, Parody, Samurai, S...</td>\n",
       "      <td>TV</td>\n",
       "      <td>51</td>\n",
       "      <td>9.25</td>\n",
       "      <td>114262</td>\n",
       "    </tr>\n",
       "    <tr>\n",
       "      <th>3</th>\n",
       "      <td>9253</td>\n",
       "      <td>Steins;Gate</td>\n",
       "      <td>Sci-Fi, Thriller</td>\n",
       "      <td>TV</td>\n",
       "      <td>24</td>\n",
       "      <td>9.17</td>\n",
       "      <td>673572</td>\n",
       "    </tr>\n",
       "    <tr>\n",
       "      <th>4</th>\n",
       "      <td>9969</td>\n",
       "      <td>Gintama&amp;#039;</td>\n",
       "      <td>Action, Comedy, Historical, Parody, Samurai, S...</td>\n",
       "      <td>TV</td>\n",
       "      <td>51</td>\n",
       "      <td>9.16</td>\n",
       "      <td>151266</td>\n",
       "    </tr>\n",
       "  </tbody>\n",
       "</table>\n",
       "</div>"
      ],
      "text/plain": [
       "   anime_id                              name  \\\n",
       "0     32281                    Kimi no Na wa.   \n",
       "1      5114  Fullmetal Alchemist: Brotherhood   \n",
       "2     28977                          Gintama°   \n",
       "3      9253                       Steins;Gate   \n",
       "4      9969                     Gintama&#039;   \n",
       "\n",
       "                                               genre   type episodes  rating  \\\n",
       "0               Drama, Romance, School, Supernatural  Movie        1    9.37   \n",
       "1  Action, Adventure, Drama, Fantasy, Magic, Mili...     TV       64    9.26   \n",
       "2  Action, Comedy, Historical, Parody, Samurai, S...     TV       51    9.25   \n",
       "3                                   Sci-Fi, Thriller     TV       24    9.17   \n",
       "4  Action, Comedy, Historical, Parody, Samurai, S...     TV       51    9.16   \n",
       "\n",
       "   members  \n",
       "0   200630  \n",
       "1   793665  \n",
       "2   114262  \n",
       "3   673572  \n",
       "4   151266  "
      ]
     },
     "execution_count": 4,
     "metadata": {},
     "output_type": "execute_result"
    }
   ],
   "source": [
    "anime.head()"
   ]
  },
  {
   "cell_type": "code",
   "execution_count": 5,
   "id": "bf4b215e",
   "metadata": {
    "execution": {
     "iopub.execute_input": "2022-03-25T08:32:54.625116Z",
     "iopub.status.busy": "2022-03-25T08:32:54.624532Z",
     "iopub.status.idle": "2022-03-25T08:32:54.643749Z",
     "shell.execute_reply": "2022-03-25T08:32:54.644152Z",
     "shell.execute_reply.started": "2022-03-25T07:14:28.842406Z"
    },
    "papermill": {
     "duration": 0.05851,
     "end_time": "2022-03-25T08:32:54.644316",
     "exception": false,
     "start_time": "2022-03-25T08:32:54.585806",
     "status": "completed"
    },
    "tags": []
   },
   "outputs": [
    {
     "name": "stdout",
     "output_type": "stream",
     "text": [
      "<class 'pandas.core.frame.DataFrame'>\n",
      "RangeIndex: 12294 entries, 0 to 12293\n",
      "Data columns (total 7 columns):\n",
      " #   Column    Non-Null Count  Dtype  \n",
      "---  ------    --------------  -----  \n",
      " 0   anime_id  12294 non-null  int64  \n",
      " 1   name      12294 non-null  object \n",
      " 2   genre     12232 non-null  object \n",
      " 3   type      12269 non-null  object \n",
      " 4   episodes  12294 non-null  object \n",
      " 5   rating    12064 non-null  float64\n",
      " 6   members   12294 non-null  int64  \n",
      "dtypes: float64(1), int64(2), object(4)\n",
      "memory usage: 672.5+ KB\n"
     ]
    }
   ],
   "source": [
    "anime.info()"
   ]
  },
  {
   "cell_type": "code",
   "execution_count": 6,
   "id": "b90d9a34",
   "metadata": {
    "execution": {
     "iopub.execute_input": "2022-03-25T08:32:54.715736Z",
     "iopub.status.busy": "2022-03-25T08:32:54.714811Z",
     "iopub.status.idle": "2022-03-25T08:32:54.729707Z",
     "shell.execute_reply": "2022-03-25T08:32:54.730328Z",
     "shell.execute_reply.started": "2022-03-25T07:14:28.867398Z"
    },
    "papermill": {
     "duration": 0.055402,
     "end_time": "2022-03-25T08:32:54.730586",
     "exception": false,
     "start_time": "2022-03-25T08:32:54.675184",
     "status": "completed"
    },
    "tags": []
   },
   "outputs": [
    {
     "name": "stdout",
     "output_type": "stream",
     "text": [
      "Column \"anime_id\" has 0 null values out of 12294 values. Percentage if null is 0.0%.\n",
      "Column \"name\" has 0 null values out of 12294 values. Percentage if null is 0.0%.\n",
      "Column \"genre\" has 62 null values out of 12294 values. Percentage if null is 0.504%.\n",
      "Column \"type\" has 25 null values out of 12294 values. Percentage if null is 0.203%.\n",
      "Column \"episodes\" has 0 null values out of 12294 values. Percentage if null is 0.0%.\n",
      "Column \"rating\" has 230 null values out of 12294 values. Percentage if null is 1.871%.\n",
      "Column \"members\" has 0 null values out of 12294 values. Percentage if null is 0.0%.\n"
     ]
    }
   ],
   "source": [
    "has_null = {}\n",
    "for col in anime.columns:\n",
    "    print(\"Column \\\"{}\\\" has {} null values out of {} values. Percentage if null is {}%.\"\n",
    "          .format(col, anime[col].isna().sum(), anime[col].size, round(anime[col].isna().sum()/anime[col].size*100,3) ) )\n",
    "    if anime[col].isna().sum()>0:\n",
    "        has_null[col] = anime[col].isna().sum()"
   ]
  },
  {
   "cell_type": "code",
   "execution_count": 7,
   "id": "97888388",
   "metadata": {
    "execution": {
     "iopub.execute_input": "2022-03-25T08:32:54.795369Z",
     "iopub.status.busy": "2022-03-25T08:32:54.794835Z",
     "iopub.status.idle": "2022-03-25T08:32:54.803702Z",
     "shell.execute_reply": "2022-03-25T08:32:54.803200Z",
     "shell.execute_reply.started": "2022-03-25T07:14:28.892934Z"
    },
    "papermill": {
     "duration": 0.041573,
     "end_time": "2022-03-25T08:32:54.803838",
     "exception": false,
     "start_time": "2022-03-25T08:32:54.762265",
     "status": "completed"
    },
    "tags": []
   },
   "outputs": [],
   "source": [
    "anime_categorical = anime.select_dtypes(include=[object])\n",
    "anime_numerical = anime.select_dtypes(include = [np.number])"
   ]
  },
  {
   "cell_type": "code",
   "execution_count": 8,
   "id": "74c3b619",
   "metadata": {
    "execution": {
     "iopub.execute_input": "2022-03-25T08:32:54.876257Z",
     "iopub.status.busy": "2022-03-25T08:32:54.875243Z",
     "iopub.status.idle": "2022-03-25T08:32:54.895528Z",
     "shell.execute_reply": "2022-03-25T08:32:54.895036Z",
     "shell.execute_reply.started": "2022-03-25T07:14:28.904376Z"
    },
    "papermill": {
     "duration": 0.060913,
     "end_time": "2022-03-25T08:32:54.895677",
     "exception": false,
     "start_time": "2022-03-25T08:32:54.834764",
     "status": "completed"
    },
    "tags": []
   },
   "outputs": [
    {
     "data": {
      "text/html": [
       "<div>\n",
       "<style scoped>\n",
       "    .dataframe tbody tr th:only-of-type {\n",
       "        vertical-align: middle;\n",
       "    }\n",
       "\n",
       "    .dataframe tbody tr th {\n",
       "        vertical-align: top;\n",
       "    }\n",
       "\n",
       "    .dataframe thead th {\n",
       "        text-align: right;\n",
       "    }\n",
       "</style>\n",
       "<table border=\"1\" class=\"dataframe\">\n",
       "  <thead>\n",
       "    <tr style=\"text-align: right;\">\n",
       "      <th></th>\n",
       "      <th>name</th>\n",
       "      <th>genre</th>\n",
       "      <th>type</th>\n",
       "      <th>episodes</th>\n",
       "    </tr>\n",
       "  </thead>\n",
       "  <tbody>\n",
       "    <tr>\n",
       "      <th>count</th>\n",
       "      <td>12294</td>\n",
       "      <td>12232</td>\n",
       "      <td>12269</td>\n",
       "      <td>12294</td>\n",
       "    </tr>\n",
       "    <tr>\n",
       "      <th>unique</th>\n",
       "      <td>12292</td>\n",
       "      <td>3264</td>\n",
       "      <td>6</td>\n",
       "      <td>187</td>\n",
       "    </tr>\n",
       "    <tr>\n",
       "      <th>top</th>\n",
       "      <td>Shi Wan Ge Leng Xiaohua</td>\n",
       "      <td>Hentai</td>\n",
       "      <td>TV</td>\n",
       "      <td>1</td>\n",
       "    </tr>\n",
       "    <tr>\n",
       "      <th>freq</th>\n",
       "      <td>2</td>\n",
       "      <td>823</td>\n",
       "      <td>3787</td>\n",
       "      <td>5677</td>\n",
       "    </tr>\n",
       "  </tbody>\n",
       "</table>\n",
       "</div>"
      ],
      "text/plain": [
       "                           name   genre   type episodes\n",
       "count                     12294   12232  12269    12294\n",
       "unique                    12292    3264      6      187\n",
       "top     Shi Wan Ge Leng Xiaohua  Hentai     TV        1\n",
       "freq                          2     823   3787     5677"
      ]
     },
     "execution_count": 8,
     "metadata": {},
     "output_type": "execute_result"
    }
   ],
   "source": [
    "anime_categorical.describe()"
   ]
  },
  {
   "cell_type": "code",
   "execution_count": 9,
   "id": "cc9c4dd2",
   "metadata": {
    "execution": {
     "iopub.execute_input": "2022-03-25T08:32:54.963175Z",
     "iopub.status.busy": "2022-03-25T08:32:54.962250Z",
     "iopub.status.idle": "2022-03-25T08:32:54.982838Z",
     "shell.execute_reply": "2022-03-25T08:32:54.983456Z",
     "shell.execute_reply.started": "2022-03-25T07:14:28.945091Z"
    },
    "papermill": {
     "duration": 0.056186,
     "end_time": "2022-03-25T08:32:54.983764",
     "exception": false,
     "start_time": "2022-03-25T08:32:54.927578",
     "status": "completed"
    },
    "tags": []
   },
   "outputs": [
    {
     "data": {
      "text/html": [
       "<div>\n",
       "<style scoped>\n",
       "    .dataframe tbody tr th:only-of-type {\n",
       "        vertical-align: middle;\n",
       "    }\n",
       "\n",
       "    .dataframe tbody tr th {\n",
       "        vertical-align: top;\n",
       "    }\n",
       "\n",
       "    .dataframe thead th {\n",
       "        text-align: right;\n",
       "    }\n",
       "</style>\n",
       "<table border=\"1\" class=\"dataframe\">\n",
       "  <thead>\n",
       "    <tr style=\"text-align: right;\">\n",
       "      <th></th>\n",
       "      <th>anime_id</th>\n",
       "      <th>rating</th>\n",
       "      <th>members</th>\n",
       "    </tr>\n",
       "  </thead>\n",
       "  <tbody>\n",
       "    <tr>\n",
       "      <th>count</th>\n",
       "      <td>12294.000000</td>\n",
       "      <td>12064.000000</td>\n",
       "      <td>1.229400e+04</td>\n",
       "    </tr>\n",
       "    <tr>\n",
       "      <th>mean</th>\n",
       "      <td>14058.221653</td>\n",
       "      <td>6.473902</td>\n",
       "      <td>1.807134e+04</td>\n",
       "    </tr>\n",
       "    <tr>\n",
       "      <th>std</th>\n",
       "      <td>11455.294701</td>\n",
       "      <td>1.026746</td>\n",
       "      <td>5.482068e+04</td>\n",
       "    </tr>\n",
       "    <tr>\n",
       "      <th>min</th>\n",
       "      <td>1.000000</td>\n",
       "      <td>1.670000</td>\n",
       "      <td>5.000000e+00</td>\n",
       "    </tr>\n",
       "    <tr>\n",
       "      <th>25%</th>\n",
       "      <td>3484.250000</td>\n",
       "      <td>5.880000</td>\n",
       "      <td>2.250000e+02</td>\n",
       "    </tr>\n",
       "    <tr>\n",
       "      <th>50%</th>\n",
       "      <td>10260.500000</td>\n",
       "      <td>6.570000</td>\n",
       "      <td>1.550000e+03</td>\n",
       "    </tr>\n",
       "    <tr>\n",
       "      <th>75%</th>\n",
       "      <td>24794.500000</td>\n",
       "      <td>7.180000</td>\n",
       "      <td>9.437000e+03</td>\n",
       "    </tr>\n",
       "    <tr>\n",
       "      <th>max</th>\n",
       "      <td>34527.000000</td>\n",
       "      <td>10.000000</td>\n",
       "      <td>1.013917e+06</td>\n",
       "    </tr>\n",
       "  </tbody>\n",
       "</table>\n",
       "</div>"
      ],
      "text/plain": [
       "           anime_id        rating       members\n",
       "count  12294.000000  12064.000000  1.229400e+04\n",
       "mean   14058.221653      6.473902  1.807134e+04\n",
       "std    11455.294701      1.026746  5.482068e+04\n",
       "min        1.000000      1.670000  5.000000e+00\n",
       "25%     3484.250000      5.880000  2.250000e+02\n",
       "50%    10260.500000      6.570000  1.550000e+03\n",
       "75%    24794.500000      7.180000  9.437000e+03\n",
       "max    34527.000000     10.000000  1.013917e+06"
      ]
     },
     "execution_count": 9,
     "metadata": {},
     "output_type": "execute_result"
    }
   ],
   "source": [
    "anime_numerical.describe()"
   ]
  },
  {
   "cell_type": "code",
   "execution_count": 10,
   "id": "ad7b0199",
   "metadata": {
    "execution": {
     "iopub.execute_input": "2022-03-25T08:32:55.051758Z",
     "iopub.status.busy": "2022-03-25T08:32:55.050849Z",
     "iopub.status.idle": "2022-03-25T08:32:55.068937Z",
     "shell.execute_reply": "2022-03-25T08:32:55.069356Z",
     "shell.execute_reply.started": "2022-03-25T07:14:28.969456Z"
    },
    "papermill": {
     "duration": 0.053906,
     "end_time": "2022-03-25T08:32:55.069558",
     "exception": false,
     "start_time": "2022-03-25T08:32:55.015652",
     "status": "completed"
    },
    "tags": []
   },
   "outputs": [
    {
     "data": {
      "text/plain": [
       "array([False])"
      ]
     },
     "execution_count": 10,
     "metadata": {},
     "output_type": "execute_result"
    }
   ],
   "source": [
    "anime.duplicated().unique()\n",
    "# no duplicate row"
   ]
  },
  {
   "cell_type": "code",
   "execution_count": 11,
   "id": "eaa4eda9",
   "metadata": {
    "execution": {
     "iopub.execute_input": "2022-03-25T08:32:55.136223Z",
     "iopub.status.busy": "2022-03-25T08:32:55.135598Z",
     "iopub.status.idle": "2022-03-25T08:32:55.152831Z",
     "shell.execute_reply": "2022-03-25T08:32:55.153272Z",
     "shell.execute_reply.started": "2022-03-25T07:14:28.989861Z"
    },
    "papermill": {
     "duration": 0.052294,
     "end_time": "2022-03-25T08:32:55.153456",
     "exception": false,
     "start_time": "2022-03-25T08:32:55.101162",
     "status": "completed"
    },
    "tags": []
   },
   "outputs": [
    {
     "data": {
      "text/html": [
       "<div>\n",
       "<style scoped>\n",
       "    .dataframe tbody tr th:only-of-type {\n",
       "        vertical-align: middle;\n",
       "    }\n",
       "\n",
       "    .dataframe tbody tr th {\n",
       "        vertical-align: top;\n",
       "    }\n",
       "\n",
       "    .dataframe thead th {\n",
       "        text-align: right;\n",
       "    }\n",
       "</style>\n",
       "<table border=\"1\" class=\"dataframe\">\n",
       "  <thead>\n",
       "    <tr style=\"text-align: right;\">\n",
       "      <th></th>\n",
       "      <th>name</th>\n",
       "      <th>genre</th>\n",
       "      <th>type</th>\n",
       "      <th>episodes</th>\n",
       "      <th>rating</th>\n",
       "      <th>members</th>\n",
       "    </tr>\n",
       "    <tr>\n",
       "      <th>anime_id</th>\n",
       "      <th></th>\n",
       "      <th></th>\n",
       "      <th></th>\n",
       "      <th></th>\n",
       "      <th></th>\n",
       "      <th></th>\n",
       "    </tr>\n",
       "  </thead>\n",
       "  <tbody>\n",
       "    <tr>\n",
       "      <th>1</th>\n",
       "      <td>Cowboy Bebop</td>\n",
       "      <td>Action, Adventure, Comedy, Drama, Sci-Fi, Space</td>\n",
       "      <td>TV</td>\n",
       "      <td>26</td>\n",
       "      <td>8.82</td>\n",
       "      <td>486824</td>\n",
       "    </tr>\n",
       "    <tr>\n",
       "      <th>5</th>\n",
       "      <td>Cowboy Bebop: Tengoku no Tobira</td>\n",
       "      <td>Action, Drama, Mystery, Sci-Fi, Space</td>\n",
       "      <td>Movie</td>\n",
       "      <td>1</td>\n",
       "      <td>8.40</td>\n",
       "      <td>137636</td>\n",
       "    </tr>\n",
       "    <tr>\n",
       "      <th>6</th>\n",
       "      <td>Trigun</td>\n",
       "      <td>Action, Comedy, Sci-Fi</td>\n",
       "      <td>TV</td>\n",
       "      <td>26</td>\n",
       "      <td>8.32</td>\n",
       "      <td>283069</td>\n",
       "    </tr>\n",
       "    <tr>\n",
       "      <th>7</th>\n",
       "      <td>Witch Hunter Robin</td>\n",
       "      <td>Action, Drama, Magic, Mystery, Police, Superna...</td>\n",
       "      <td>TV</td>\n",
       "      <td>26</td>\n",
       "      <td>7.36</td>\n",
       "      <td>64905</td>\n",
       "    </tr>\n",
       "    <tr>\n",
       "      <th>8</th>\n",
       "      <td>Beet the Vandel Buster</td>\n",
       "      <td>Adventure, Fantasy, Shounen, Supernatural</td>\n",
       "      <td>TV</td>\n",
       "      <td>52</td>\n",
       "      <td>7.06</td>\n",
       "      <td>9848</td>\n",
       "    </tr>\n",
       "    <tr>\n",
       "      <th>...</th>\n",
       "      <td>...</td>\n",
       "      <td>...</td>\n",
       "      <td>...</td>\n",
       "      <td>...</td>\n",
       "      <td>...</td>\n",
       "      <td>...</td>\n",
       "    </tr>\n",
       "    <tr>\n",
       "      <th>34514</th>\n",
       "      <td>Pokemon Generations</td>\n",
       "      <td>Action, Adventure, Fantasy, Game, Kids</td>\n",
       "      <td>ONA</td>\n",
       "      <td>18</td>\n",
       "      <td>7.21</td>\n",
       "      <td>295</td>\n",
       "    </tr>\n",
       "    <tr>\n",
       "      <th>34519</th>\n",
       "      <td>Mobile Suit Gakuen: G-Reco Koushien</td>\n",
       "      <td>Comedy</td>\n",
       "      <td>Special</td>\n",
       "      <td>9</td>\n",
       "      <td>5.67</td>\n",
       "      <td>94</td>\n",
       "    </tr>\n",
       "    <tr>\n",
       "      <th>34522</th>\n",
       "      <td>Wake Up, Girls! Shin Shou</td>\n",
       "      <td>Drama, Music</td>\n",
       "      <td>TV</td>\n",
       "      <td>Unknown</td>\n",
       "      <td>NaN</td>\n",
       "      <td>381</td>\n",
       "    </tr>\n",
       "    <tr>\n",
       "      <th>34525</th>\n",
       "      <td>Centaur no Nayami</td>\n",
       "      <td>Comedy, Fantasy, Slice of Life, Supernatural</td>\n",
       "      <td>TV</td>\n",
       "      <td>Unknown</td>\n",
       "      <td>NaN</td>\n",
       "      <td>108</td>\n",
       "    </tr>\n",
       "    <tr>\n",
       "      <th>34527</th>\n",
       "      <td>Gou-chan. Moko to Chinjuu no Mori no Nakama-tachi</td>\n",
       "      <td>Adventure, Kids</td>\n",
       "      <td>Movie</td>\n",
       "      <td>1</td>\n",
       "      <td>NaN</td>\n",
       "      <td>5</td>\n",
       "    </tr>\n",
       "  </tbody>\n",
       "</table>\n",
       "<p>12294 rows × 6 columns</p>\n",
       "</div>"
      ],
      "text/plain": [
       "                                                       name  \\\n",
       "anime_id                                                      \n",
       "1                                              Cowboy Bebop   \n",
       "5                           Cowboy Bebop: Tengoku no Tobira   \n",
       "6                                                    Trigun   \n",
       "7                                        Witch Hunter Robin   \n",
       "8                                    Beet the Vandel Buster   \n",
       "...                                                     ...   \n",
       "34514                                   Pokemon Generations   \n",
       "34519                   Mobile Suit Gakuen: G-Reco Koushien   \n",
       "34522                             Wake Up, Girls! Shin Shou   \n",
       "34525                                     Centaur no Nayami   \n",
       "34527     Gou-chan. Moko to Chinjuu no Mori no Nakama-tachi   \n",
       "\n",
       "                                                      genre     type episodes  \\\n",
       "anime_id                                                                        \n",
       "1           Action, Adventure, Comedy, Drama, Sci-Fi, Space       TV       26   \n",
       "5                     Action, Drama, Mystery, Sci-Fi, Space    Movie        1   \n",
       "6                                    Action, Comedy, Sci-Fi       TV       26   \n",
       "7         Action, Drama, Magic, Mystery, Police, Superna...       TV       26   \n",
       "8                 Adventure, Fantasy, Shounen, Supernatural       TV       52   \n",
       "...                                                     ...      ...      ...   \n",
       "34514                Action, Adventure, Fantasy, Game, Kids      ONA       18   \n",
       "34519                                                Comedy  Special        9   \n",
       "34522                                          Drama, Music       TV  Unknown   \n",
       "34525          Comedy, Fantasy, Slice of Life, Supernatural       TV  Unknown   \n",
       "34527                                       Adventure, Kids    Movie        1   \n",
       "\n",
       "          rating  members  \n",
       "anime_id                   \n",
       "1           8.82   486824  \n",
       "5           8.40   137636  \n",
       "6           8.32   283069  \n",
       "7           7.36    64905  \n",
       "8           7.06     9848  \n",
       "...          ...      ...  \n",
       "34514       7.21      295  \n",
       "34519       5.67       94  \n",
       "34522        NaN      381  \n",
       "34525        NaN      108  \n",
       "34527        NaN        5  \n",
       "\n",
       "[12294 rows x 6 columns]"
      ]
     },
     "execution_count": 11,
     "metadata": {},
     "output_type": "execute_result"
    }
   ],
   "source": [
    "anime = anime.sort_values(by=\"anime_id\")\n",
    "anime.set_index(\"anime_id\")\n",
    "# anime_id isn't numerically increase consistently but that's fine "
   ]
  },
  {
   "cell_type": "code",
   "execution_count": 12,
   "id": "e6cd4aa0",
   "metadata": {
    "execution": {
     "iopub.execute_input": "2022-03-25T08:32:55.221059Z",
     "iopub.status.busy": "2022-03-25T08:32:55.220494Z",
     "iopub.status.idle": "2022-03-25T08:32:55.698089Z",
     "shell.execute_reply": "2022-03-25T08:32:55.698682Z",
     "shell.execute_reply.started": "2022-03-25T07:14:29.013894Z"
    },
    "papermill": {
     "duration": 0.513269,
     "end_time": "2022-03-25T08:32:55.698936",
     "exception": false,
     "start_time": "2022-03-25T08:32:55.185667",
     "status": "completed"
    },
    "tags": []
   },
   "outputs": [
    {
     "data": {
      "text/plain": [
       "<AxesSubplot:>"
      ]
     },
     "execution_count": 12,
     "metadata": {},
     "output_type": "execute_result"
    },
    {
     "data": {
      "image/png": "[encoded data removed]",
      "text/plain": [
       "<Figure size 1800x720 with 2 Axes>"
      ]
     },
     "metadata": {
      "needs_background": "light"
     },
     "output_type": "display_data"
    }
   ],
   "source": [
    "msno.matrix(anime)"
   ]
  },
  {
   "cell_type": "code",
   "execution_count": 13,
   "id": "d1dd2282",
   "metadata": {
    "execution": {
     "iopub.execute_input": "2022-03-25T08:32:55.770108Z",
     "iopub.status.busy": "2022-03-25T08:32:55.769476Z",
     "iopub.status.idle": "2022-03-25T08:32:56.941099Z",
     "shell.execute_reply": "2022-03-25T08:32:56.940588Z",
     "shell.execute_reply.started": "2022-03-25T07:14:29.375197Z"
    },
    "papermill": {
     "duration": 1.207598,
     "end_time": "2022-03-25T08:32:56.941231",
     "exception": false,
     "start_time": "2022-03-25T08:32:55.733633",
     "status": "completed"
    },
    "tags": []
   },
   "outputs": [
    {
     "data": {
      "text/plain": [
       "<AxesSubplot:>"
      ]
     },
     "execution_count": 13,
     "metadata": {},
     "output_type": "execute_result"
    },
    {
     "data": {
      "image/png": "[encoded data removed]",
      "text/plain": [
       "<Figure size 1152x864 with 2 Axes>"
      ]
     },
     "metadata": {
      "needs_background": "light"
     },
     "output_type": "display_data"
    }
   ],
   "source": [
    "plt.figure(figsize=(16,12))\n",
    "sns.heatmap(anime.isna(), cmap=sns.color_palette([\"green\",\"red\"]) )"
   ]
  },
  {
   "cell_type": "code",
   "execution_count": 14,
   "id": "c1285334",
   "metadata": {
    "execution": {
     "iopub.execute_input": "2022-03-25T08:32:57.019594Z",
     "iopub.status.busy": "2022-03-25T08:32:57.018726Z",
     "iopub.status.idle": "2022-03-25T08:32:58.692557Z",
     "shell.execute_reply": "2022-03-25T08:32:58.691678Z",
     "shell.execute_reply.started": "2022-03-25T07:14:30.530273Z"
    },
    "papermill": {
     "duration": 1.714292,
     "end_time": "2022-03-25T08:32:58.692717",
     "exception": false,
     "start_time": "2022-03-25T08:32:56.978425",
     "status": "completed"
    },
    "tags": []
   },
   "outputs": [
    {
     "name": "stderr",
     "output_type": "stream",
     "text": [
      "/opt/conda/lib/python3.7/site-packages/missingno/missingno.py:257: UserWarning: FixedFormatter should only be used together with FixedLocator\n",
      "  ax2.set_yticklabels([int(n*len(df)) for n in ax1.get_yticks()], fontsize=fontsize)\n"
     ]
    },
    {
     "data": {
      "text/plain": [
       "<AxesSubplot:>"
      ]
     },
     "execution_count": 14,
     "metadata": {},
     "output_type": "execute_result"
    },
    {
     "data": {
      "image/png": "[encoded data removed]",
      "text/plain": [
       "<Figure size 1728x720 with 3 Axes>"
      ]
     },
     "metadata": {
      "needs_background": "light"
     },
     "output_type": "display_data"
    }
   ],
   "source": [
    "msno.bar(anime.sample(int(anime.shape[0]*0.5)) , log=True )\n",
    "#half of data set"
   ]
  },
  {
   "cell_type": "code",
   "execution_count": 15,
   "id": "0d237d22",
   "metadata": {
    "execution": {
     "iopub.execute_input": "2022-03-25T08:32:58.772902Z",
     "iopub.status.busy": "2022-03-25T08:32:58.772233Z",
     "iopub.status.idle": "2022-03-25T08:32:59.054981Z",
     "shell.execute_reply": "2022-03-25T08:32:59.054365Z",
     "shell.execute_reply.started": "2022-03-25T07:14:31.565287Z"
    },
    "papermill": {
     "duration": 0.324585,
     "end_time": "2022-03-25T08:32:59.055119",
     "exception": false,
     "start_time": "2022-03-25T08:32:58.730534",
     "status": "completed"
    },
    "tags": []
   },
   "outputs": [
    {
     "data": {
      "text/plain": [
       "<AxesSubplot:>"
      ]
     },
     "execution_count": 15,
     "metadata": {},
     "output_type": "execute_result"
    },
    {
     "data": {
      "image/png": "[encoded data removed]",
      "text/plain": [
       "<Figure size 1152x864 with 2 Axes>"
      ]
     },
     "metadata": {
      "needs_background": "light"
     },
     "output_type": "display_data"
    }
   ],
   "source": [
    "# correlation of numerical features\n",
    "plt.figure( figsize=(16,12))\n",
    "sns.heatmap( anime_numerical.corr(), square= True, robust=True, annot=True)"
   ]
  },
  {
   "cell_type": "code",
   "execution_count": 16,
   "id": "6d5004a6",
   "metadata": {
    "execution": {
     "iopub.execute_input": "2022-03-25T08:32:59.142237Z",
     "iopub.status.busy": "2022-03-25T08:32:59.141277Z",
     "iopub.status.idle": "2022-03-25T08:32:59.152794Z",
     "shell.execute_reply": "2022-03-25T08:32:59.153341Z",
     "shell.execute_reply.started": "2022-03-25T07:14:31.824111Z"
    },
    "papermill": {
     "duration": 0.059382,
     "end_time": "2022-03-25T08:32:59.153554",
     "exception": false,
     "start_time": "2022-03-25T08:32:59.094172",
     "status": "completed"
    },
    "tags": []
   },
   "outputs": [
    {
     "name": "stdout",
     "output_type": "stream",
     "text": [
      "Columns with null values and number of null values: {'genre': 62, 'type': 25, 'rating': 230}\n",
      "Updated null_list after cleaning \"genre\": {'type': 22, 'rating': 215}\n"
     ]
    }
   ],
   "source": [
    "def update_null_dict(str):\n",
    "    has_null = dict( [ (col, anime[col].isna().sum()) for col in anime.columns if anime[col].isna().sum()>0 ] )\n",
    "    print(\"Updated null_list after cleaning \\\"{}\\\": {}\".format(str,has_null))\n",
    "\n",
    "#dealing with columns that have null values. Easy to do so since we only have 3 columns with null values \n",
    "print(\"Columns with null values and number of null values: {}\".format(has_null) )\n",
    "\n",
    "# I will just drop all rows with empty genre \n",
    "idx = anime[anime[\"genre\"].isna()].index\n",
    "anime = anime.drop(index=idx)\n",
    "update_null_dict(\"genre\")"
   ]
  },
  {
   "cell_type": "code",
   "execution_count": 17,
   "id": "bb7fea7e",
   "metadata": {
    "execution": {
     "iopub.execute_input": "2022-03-25T08:32:59.235250Z",
     "iopub.status.busy": "2022-03-25T08:32:59.234664Z",
     "iopub.status.idle": "2022-03-25T08:32:59.250408Z",
     "shell.execute_reply": "2022-03-25T08:32:59.250931Z",
     "shell.execute_reply.started": "2022-03-25T07:14:31.849238Z"
    },
    "papermill": {
     "duration": 0.05868,
     "end_time": "2022-03-25T08:32:59.251101",
     "exception": false,
     "start_time": "2022-03-25T08:32:59.192421",
     "status": "completed"
    },
    "tags": []
   },
   "outputs": [
    {
     "name": "stdout",
     "output_type": "stream",
     "text": [
      "Empty DataFrame\n",
      "Columns: [anime_id, name, genre, type, episodes, rating, members]\n",
      "Index: []\n",
      "Empty DataFrame\n",
      "Columns: [anime_id, name, genre, type, episodes, rating, members]\n",
      "Index: []\n",
      "Updated null_list after cleaning \"rating\": {'type': 22}\n"
     ]
    }
   ],
   "source": [
    "# cleaning rating\n",
    "# cheacking whether there's null value been replaced by -1 (as in rating data set) or outlier rating ( x >10 or x<0 )\n",
    "\n",
    "been_replaced = anime[anime[\"rating\"] == -1]\n",
    "print(been_replaced)\n",
    "# no. \n",
    "\n",
    "has_outlier = anime[ (anime[\"rating\"]>10) & (anime[\"rating\"]<0) ]\n",
    "print(has_outlier)\n",
    "# no. every anime's rating is <=10 and >=0\n",
    "\n",
    "# fill the null values with mean\n",
    "anime[\"rating\"] = anime[\"rating\"].fillna(anime[\"rating\"].mean())\n",
    "\n",
    "update_null_dict(\"rating\")\n"
   ]
  },
  {
   "cell_type": "code",
   "execution_count": 18,
   "id": "38316f1f",
   "metadata": {
    "execution": {
     "iopub.execute_input": "2022-03-25T08:32:59.332610Z",
     "iopub.status.busy": "2022-03-25T08:32:59.332004Z",
     "iopub.status.idle": "2022-03-25T08:32:59.403834Z",
     "shell.execute_reply": "2022-03-25T08:32:59.402970Z",
     "shell.execute_reply.started": "2022-03-25T07:14:31.869460Z"
    },
    "papermill": {
     "duration": 0.11381,
     "end_time": "2022-03-25T08:32:59.404035",
     "exception": false,
     "start_time": "2022-03-25T08:32:59.290225",
     "status": "completed"
    },
    "tags": []
   },
   "outputs": [
    {
     "name": "stdout",
     "output_type": "stream",
     "text": [
      "Anime Type: ['TV' 'Movie' 'OVA' 'Special' 'ONA' 'Music' nan]\n",
      "All possible episodes in this data set: ['26' '1' '52' '145' '24' '74' '220' 'Unknown' '178' '12' '22' '69' '25'\n",
      " '4' '94' '5' '3' '13' '23' '43' '6' '50' '47' '51' '49' '39' '8' '7' '75'\n",
      " '62' '14' '44' '45' '64' '101' '27' '161' '2' '153' '70' '78' '42' '11'\n",
      " '167' '150' '366' '9' '16' '38' '48' '10' '76' '40' '20' '37' '41' '112'\n",
      " '224' '180' '296' '358' '63' '276' '46' '54' '15' '21' '35' '124' '86'\n",
      " '102' '36' '67' '291' '110' '29' '55' '201' '142' '109' '34' '136' '32'\n",
      " '73' '114' '19' '195' '58' '155' '96' '103' '113' '104' '192' '191' '203'\n",
      " '56' '80' '172' '65' '117' '28' '61' '30' '148' '128' '100' '17' '243'\n",
      " '92' '98' '105' '79' '31' '1787' '53' '33' '130' '18' '97' '193' '115'\n",
      " '170' '66' '330' '108' '68' '119' '95' '137' '60' '77' '72' '127' '99'\n",
      " '373' '300' '163' '91' '88' '154' '141' '156' '694' '87' '225' '164' '59'\n",
      " '182' '305' '365' '1471' '331' '175' '143' '200' '510' '151' '1428' '84'\n",
      " '726' '140' '83' '147' '1006' '85' '260' '526' '1818' '312' '263' '237'\n",
      " '93' '132' '162' '90' '240' '283' '773' '199' '1274' '1565' '71' '125'\n",
      " '475' '1306' '120']\n",
      "\n",
      "\n",
      "Empty DataFrame\n",
      "Columns: [anime_id, name, genre, type, episodes, rating, members]\n",
      "Index: []\n",
      "Anime of type TV has average of 12 episodes.\n",
      "Anime of type Movie has average of 1 episodes.\n",
      "Anime of type OVA has average of 1 episodes.\n",
      "Anime of type Special has average of 1 episodes.\n",
      "Anime of type ONA has average of 1 episodes.\n",
      "Anime of type Music has average of 1 episodes.\n",
      "Anime of type nan has average of nan episodes.\n",
      "[False  True]\n"
     ]
    }
   ],
   "source": [
    "#pre checking before dealing with null values in type\n",
    "\n",
    "#print unique values of type\n",
    "print(\"Anime Type: {}\".format(anime[\"type\"].unique()))\n",
    "\n",
    "#print unique values of episodes\n",
    "print(\"All possible episodes in this data set: {}\\n\\n\".format(anime[\"episodes\"].unique()))\n",
    "\n",
    "# is there any anime which has episode of 1 (which indicates it's a movie) but has unknown anime type?\n",
    "print( anime [ (anime[\"episodes\"]==1) & (anime[\"type\"].isna())] )\n",
    "#nope\n",
    "\n",
    "\n",
    "# if an anime's episodes is unknown, then fill it with the most frequent episodes of that anime's type (noted that \"episodes\" is categorical thus I use \"top\" instead \"mean\")\n",
    "# e.g., an anime of type \"TV\" has unknown \"epiodes\", i will fill this anime's \"episodes\" with the \"TV\" 's top (which is 12 in this case)\n",
    "\n",
    "def getFreq(Thetype):\n",
    "    return anime.loc[anime[\"type\"]==Thetype][\"episodes\"].describe().top\n",
    "\n",
    "#identify each anime type's most common episodes length\n",
    "for animeType in anime[\"type\"].unique():\n",
    "        print(\"Anime of type {} has average of {} episodes.\".format(animeType, getFreq(animeType)) )\n",
    "        \n",
    "# dealing with \"Unknown\" in \"episodes\"\n",
    "for animeType in anime[\"type\"].unique():\n",
    "            anime.loc[ ((anime[\"episodes\"]=='Unknown') & (anime[\"type\"]==animeType)) , \"episodes\"] = getFreq(animeType)\n",
    "    \n",
    "print( (anime[\"episodes\"]=='Unknown').unique()) #\"Unknown\" still existed in null values of \"type\", but at least \"Unknown\" in non-null \"type\" is clear"
   ]
  },
  {
   "cell_type": "code",
   "execution_count": 19,
   "id": "7a91dec4",
   "metadata": {
    "execution": {
     "iopub.execute_input": "2022-03-25T08:32:59.490492Z",
     "iopub.status.busy": "2022-03-25T08:32:59.489863Z",
     "iopub.status.idle": "2022-03-25T08:32:59.509207Z",
     "shell.execute_reply": "2022-03-25T08:32:59.509666Z",
     "shell.execute_reply.started": "2022-03-25T07:14:31.951597Z"
    },
    "papermill": {
     "duration": 0.064309,
     "end_time": "2022-03-25T08:32:59.509964",
     "exception": false,
     "start_time": "2022-03-25T08:32:59.445655",
     "status": "completed"
    },
    "tags": []
   },
   "outputs": [
    {
     "name": "stdout",
     "output_type": "stream",
     "text": [
      "Updated null_list after cleaning \"type\": {}\n"
     ]
    }
   ],
   "source": [
    "#dealing with null values in \"type\"\n",
    "\n",
    "top_type = anime[\"type\"].describe().top\n",
    "\n",
    "#fill with most frequent anime type, TV\n",
    "anime[\"type\"] = anime[\"type\"].fillna(top_type)\n",
    "\n",
    "#fill again the \"Unknown\" where their \"type\" were previously null\n",
    "anime.loc[ ((anime[\"episodes\"]=='Unknown') & (anime[\"type\"]==top_type)) , \"episodes\"] = getFreq(top_type)\n",
    "\n",
    "update_null_dict(\"type\")"
   ]
  },
  {
   "cell_type": "code",
   "execution_count": 20,
   "id": "9726e1d2",
   "metadata": {
    "execution": {
     "iopub.execute_input": "2022-03-25T08:32:59.594832Z",
     "iopub.status.busy": "2022-03-25T08:32:59.594240Z",
     "iopub.status.idle": "2022-03-25T08:32:59.602437Z",
     "shell.execute_reply": "2022-03-25T08:32:59.602999Z",
     "shell.execute_reply.started": "2022-03-25T07:14:31.976265Z"
    },
    "papermill": {
     "duration": 0.051682,
     "end_time": "2022-03-25T08:32:59.603159",
     "exception": false,
     "start_time": "2022-03-25T08:32:59.551477",
     "status": "completed"
    },
    "tags": []
   },
   "outputs": [
    {
     "name": "stdout",
     "output_type": "stream",
     "text": [
      "[False]\n",
      "None\n",
      "Empty DataFrame\n",
      "Columns: [anime_id, name, genre, type, episodes, rating, members]\n",
      "Index: []\n"
     ]
    }
   ],
   "source": [
    "# no more null \"type\"\n",
    "print(print( (anime[\"type\"]=='NaN').unique() ) )   #False only\n",
    "print(anime[anime[\"type\"].isna()])"
   ]
  },
  {
   "cell_type": "code",
   "execution_count": 21,
   "id": "8e76975d",
   "metadata": {
    "execution": {
     "iopub.execute_input": "2022-03-25T08:32:59.687540Z",
     "iopub.status.busy": "2022-03-25T08:32:59.686783Z",
     "iopub.status.idle": "2022-03-25T08:32:59.695308Z",
     "shell.execute_reply": "2022-03-25T08:32:59.695757Z",
     "shell.execute_reply.started": "2022-03-25T07:14:31.989648Z"
    },
    "papermill": {
     "duration": 0.052113,
     "end_time": "2022-03-25T08:32:59.695929",
     "exception": false,
     "start_time": "2022-03-25T08:32:59.643816",
     "status": "completed"
    },
    "tags": []
   },
   "outputs": [
    {
     "name": "stdout",
     "output_type": "stream",
     "text": [
      "[False]\n",
      "Empty DataFrame\n",
      "Columns: [anime_id, name, genre, type, episodes, rating, members]\n",
      "Index: []\n"
     ]
    }
   ],
   "source": [
    "# no more \"Unknown\" \"episodes\"\n",
    "print( (anime[\"episodes\"]=='Unknown').unique()) # False only. \n",
    "print(anime[anime[\"episodes\"]==\"Unknown\"])"
   ]
  },
  {
   "cell_type": "code",
   "execution_count": 22,
   "id": "0dc4c173",
   "metadata": {
    "execution": {
     "iopub.execute_input": "2022-03-25T08:32:59.789366Z",
     "iopub.status.busy": "2022-03-25T08:32:59.788699Z",
     "iopub.status.idle": "2022-03-25T08:32:59.791407Z",
     "shell.execute_reply": "2022-03-25T08:32:59.791842Z",
     "shell.execute_reply.started": "2022-03-25T07:14:32.004486Z"
    },
    "papermill": {
     "duration": 0.05483,
     "end_time": "2022-03-25T08:32:59.792004",
     "exception": false,
     "start_time": "2022-03-25T08:32:59.737174",
     "status": "completed"
    },
    "tags": []
   },
   "outputs": [
    {
     "data": {
      "text/html": [
       "<div>\n",
       "<style scoped>\n",
       "    .dataframe tbody tr th:only-of-type {\n",
       "        vertical-align: middle;\n",
       "    }\n",
       "\n",
       "    .dataframe tbody tr th {\n",
       "        vertical-align: top;\n",
       "    }\n",
       "\n",
       "    .dataframe thead th {\n",
       "        text-align: right;\n",
       "    }\n",
       "</style>\n",
       "<table border=\"1\" class=\"dataframe\">\n",
       "  <thead>\n",
       "    <tr style=\"text-align: right;\">\n",
       "      <th></th>\n",
       "      <th>anime_id</th>\n",
       "      <th>name</th>\n",
       "      <th>genre</th>\n",
       "      <th>type</th>\n",
       "      <th>episodes</th>\n",
       "      <th>rating</th>\n",
       "      <th>members</th>\n",
       "    </tr>\n",
       "  </thead>\n",
       "  <tbody>\n",
       "    <tr>\n",
       "      <th>2726</th>\n",
       "      <td>34514</td>\n",
       "      <td>Pokemon Generations</td>\n",
       "      <td>Action, Adventure, Fantasy, Game, Kids</td>\n",
       "      <td>ONA</td>\n",
       "      <td>18</td>\n",
       "      <td>7.210000</td>\n",
       "      <td>295</td>\n",
       "    </tr>\n",
       "    <tr>\n",
       "      <th>9586</th>\n",
       "      <td>34519</td>\n",
       "      <td>Mobile Suit Gakuen: G-Reco Koushien</td>\n",
       "      <td>Comedy</td>\n",
       "      <td>Special</td>\n",
       "      <td>9</td>\n",
       "      <td>5.670000</td>\n",
       "      <td>94</td>\n",
       "    </tr>\n",
       "    <tr>\n",
       "      <th>11104</th>\n",
       "      <td>34522</td>\n",
       "      <td>Wake Up, Girls! Shin Shou</td>\n",
       "      <td>Drama, Music</td>\n",
       "      <td>TV</td>\n",
       "      <td>12</td>\n",
       "      <td>6.478264</td>\n",
       "      <td>381</td>\n",
       "    </tr>\n",
       "    <tr>\n",
       "      <th>10952</th>\n",
       "      <td>34525</td>\n",
       "      <td>Centaur no Nayami</td>\n",
       "      <td>Comedy, Fantasy, Slice of Life, Supernatural</td>\n",
       "      <td>TV</td>\n",
       "      <td>12</td>\n",
       "      <td>6.478264</td>\n",
       "      <td>108</td>\n",
       "    </tr>\n",
       "    <tr>\n",
       "      <th>10997</th>\n",
       "      <td>34527</td>\n",
       "      <td>Gou-chan. Moko to Chinjuu no Mori no Nakama-tachi</td>\n",
       "      <td>Adventure, Kids</td>\n",
       "      <td>Movie</td>\n",
       "      <td>1</td>\n",
       "      <td>6.478264</td>\n",
       "      <td>5</td>\n",
       "    </tr>\n",
       "  </tbody>\n",
       "</table>\n",
       "</div>"
      ],
      "text/plain": [
       "       anime_id                                               name  \\\n",
       "2726      34514                                Pokemon Generations   \n",
       "9586      34519                Mobile Suit Gakuen: G-Reco Koushien   \n",
       "11104     34522                          Wake Up, Girls! Shin Shou   \n",
       "10952     34525                                  Centaur no Nayami   \n",
       "10997     34527  Gou-chan. Moko to Chinjuu no Mori no Nakama-tachi   \n",
       "\n",
       "                                              genre     type episodes  \\\n",
       "2726         Action, Adventure, Fantasy, Game, Kids      ONA       18   \n",
       "9586                                         Comedy  Special        9   \n",
       "11104                                  Drama, Music       TV       12   \n",
       "10952  Comedy, Fantasy, Slice of Life, Supernatural       TV       12   \n",
       "10997                               Adventure, Kids    Movie        1   \n",
       "\n",
       "         rating  members  \n",
       "2726   7.210000      295  \n",
       "9586   5.670000       94  \n",
       "11104  6.478264      381  \n",
       "10952  6.478264      108  \n",
       "10997  6.478264        5  "
      ]
     },
     "execution_count": 22,
     "metadata": {},
     "output_type": "execute_result"
    }
   ],
   "source": [
    "#group by genres\n",
    "anime.tail()\n",
    "\n"
   ]
  },
  {
   "cell_type": "code",
   "execution_count": 23,
   "id": "53c21022",
   "metadata": {
    "execution": {
     "iopub.execute_input": "2022-03-25T08:32:59.884439Z",
     "iopub.status.busy": "2022-03-25T08:32:59.877816Z",
     "iopub.status.idle": "2022-03-25T08:32:59.894036Z",
     "shell.execute_reply": "2022-03-25T08:32:59.894609Z",
     "shell.execute_reply.started": "2022-03-25T07:14:32.026671Z"
    },
    "papermill": {
     "duration": 0.061144,
     "end_time": "2022-03-25T08:32:59.894777",
     "exception": false,
     "start_time": "2022-03-25T08:32:59.833633",
     "status": "completed"
    },
    "tags": []
   },
   "outputs": [
    {
     "name": "stdout",
     "output_type": "stream",
     "text": [
      "<class 'pandas.core.frame.DataFrame'>\n",
      "Int64Index: 12232 entries, 22 to 10997\n",
      "Data columns (total 7 columns):\n",
      " #   Column    Non-Null Count  Dtype  \n",
      "---  ------    --------------  -----  \n",
      " 0   anime_id  12232 non-null  int64  \n",
      " 1   name      12232 non-null  object \n",
      " 2   genre     12232 non-null  object \n",
      " 3   type      12232 non-null  object \n",
      " 4   episodes  12232 non-null  object \n",
      " 5   rating    12232 non-null  float64\n",
      " 6   members   12232 non-null  int64  \n",
      "dtypes: float64(1), int64(2), object(4)\n",
      "memory usage: 764.5+ KB\n"
     ]
    }
   ],
   "source": [
    "anime.info()"
   ]
  },
  {
   "cell_type": "markdown",
   "id": "fd2a07ef",
   "metadata": {
    "papermill": {
     "duration": 0.041347,
     "end_time": "2022-03-25T08:32:59.977889",
     "exception": false,
     "start_time": "2022-03-25T08:32:59.936542",
     "status": "completed"
    },
    "tags": []
   },
   "source": [
    "# **rating data set**"
   ]
  },
  {
   "cell_type": "code",
   "execution_count": 24,
   "id": "3d70e55f",
   "metadata": {
    "execution": {
     "iopub.execute_input": "2022-03-25T08:33:00.070002Z",
     "iopub.status.busy": "2022-03-25T08:33:00.069338Z",
     "iopub.status.idle": "2022-03-25T08:33:00.073180Z",
     "shell.execute_reply": "2022-03-25T08:33:00.072699Z",
     "shell.execute_reply.started": "2022-03-25T07:14:32.045941Z"
    },
    "papermill": {
     "duration": 0.053989,
     "end_time": "2022-03-25T08:33:00.073311",
     "exception": false,
     "start_time": "2022-03-25T08:33:00.019322",
     "status": "completed"
    },
    "tags": []
   },
   "outputs": [
    {
     "data": {
      "text/html": [
       "<div>\n",
       "<style scoped>\n",
       "    .dataframe tbody tr th:only-of-type {\n",
       "        vertical-align: middle;\n",
       "    }\n",
       "\n",
       "    .dataframe tbody tr th {\n",
       "        vertical-align: top;\n",
       "    }\n",
       "\n",
       "    .dataframe thead th {\n",
       "        text-align: right;\n",
       "    }\n",
       "</style>\n",
       "<table border=\"1\" class=\"dataframe\">\n",
       "  <thead>\n",
       "    <tr style=\"text-align: right;\">\n",
       "      <th></th>\n",
       "      <th>user_id</th>\n",
       "      <th>anime_id</th>\n",
       "      <th>rating</th>\n",
       "    </tr>\n",
       "  </thead>\n",
       "  <tbody>\n",
       "    <tr>\n",
       "      <th>0</th>\n",
       "      <td>1</td>\n",
       "      <td>20</td>\n",
       "      <td>-1</td>\n",
       "    </tr>\n",
       "    <tr>\n",
       "      <th>1</th>\n",
       "      <td>1</td>\n",
       "      <td>24</td>\n",
       "      <td>-1</td>\n",
       "    </tr>\n",
       "    <tr>\n",
       "      <th>2</th>\n",
       "      <td>1</td>\n",
       "      <td>79</td>\n",
       "      <td>-1</td>\n",
       "    </tr>\n",
       "    <tr>\n",
       "      <th>3</th>\n",
       "      <td>1</td>\n",
       "      <td>226</td>\n",
       "      <td>-1</td>\n",
       "    </tr>\n",
       "    <tr>\n",
       "      <th>4</th>\n",
       "      <td>1</td>\n",
       "      <td>241</td>\n",
       "      <td>-1</td>\n",
       "    </tr>\n",
       "  </tbody>\n",
       "</table>\n",
       "</div>"
      ],
      "text/plain": [
       "   user_id  anime_id  rating\n",
       "0        1        20      -1\n",
       "1        1        24      -1\n",
       "2        1        79      -1\n",
       "3        1       226      -1\n",
       "4        1       241      -1"
      ]
     },
     "execution_count": 24,
     "metadata": {},
     "output_type": "execute_result"
    }
   ],
   "source": [
    "rating.head()"
   ]
  },
  {
   "cell_type": "code",
   "execution_count": 25,
   "id": "8d9ddff7",
   "metadata": {
    "execution": {
     "iopub.execute_input": "2022-03-25T08:33:00.162090Z",
     "iopub.status.busy": "2022-03-25T08:33:00.161523Z",
     "iopub.status.idle": "2022-03-25T08:33:00.170743Z",
     "shell.execute_reply": "2022-03-25T08:33:00.170251Z",
     "shell.execute_reply.started": "2022-03-25T07:14:32.058501Z"
    },
    "papermill": {
     "duration": 0.054527,
     "end_time": "2022-03-25T08:33:00.170897",
     "exception": false,
     "start_time": "2022-03-25T08:33:00.116370",
     "status": "completed"
    },
    "tags": []
   },
   "outputs": [
    {
     "name": "stdout",
     "output_type": "stream",
     "text": [
      "<class 'pandas.core.frame.DataFrame'>\n",
      "RangeIndex: 7813737 entries, 0 to 7813736\n",
      "Data columns (total 3 columns):\n",
      " #   Column    Dtype\n",
      "---  ------    -----\n",
      " 0   user_id   int64\n",
      " 1   anime_id  int64\n",
      " 2   rating    int64\n",
      "dtypes: int64(3)\n",
      "memory usage: 178.8 MB\n"
     ]
    }
   ],
   "source": [
    "rating.info()"
   ]
  },
  {
   "cell_type": "code",
   "execution_count": 26,
   "id": "4202202c",
   "metadata": {
    "execution": {
     "iopub.execute_input": "2022-03-25T08:33:00.326410Z",
     "iopub.status.busy": "2022-03-25T08:33:00.325767Z",
     "iopub.status.idle": "2022-03-25T08:33:00.918453Z",
     "shell.execute_reply": "2022-03-25T08:33:00.917974Z",
     "shell.execute_reply.started": "2022-03-25T07:14:32.073471Z"
    },
    "papermill": {
     "duration": 0.704944,
     "end_time": "2022-03-25T08:33:00.918594",
     "exception": false,
     "start_time": "2022-03-25T08:33:00.213650",
     "status": "completed"
    },
    "tags": []
   },
   "outputs": [
    {
     "data": {
      "text/html": [
       "<div>\n",
       "<style scoped>\n",
       "    .dataframe tbody tr th:only-of-type {\n",
       "        vertical-align: middle;\n",
       "    }\n",
       "\n",
       "    .dataframe tbody tr th {\n",
       "        vertical-align: top;\n",
       "    }\n",
       "\n",
       "    .dataframe thead th {\n",
       "        text-align: right;\n",
       "    }\n",
       "</style>\n",
       "<table border=\"1\" class=\"dataframe\">\n",
       "  <thead>\n",
       "    <tr style=\"text-align: right;\">\n",
       "      <th></th>\n",
       "      <th>user_id</th>\n",
       "      <th>anime_id</th>\n",
       "      <th>rating</th>\n",
       "    </tr>\n",
       "  </thead>\n",
       "  <tbody>\n",
       "    <tr>\n",
       "      <th>count</th>\n",
       "      <td>7.813737e+06</td>\n",
       "      <td>7.813737e+06</td>\n",
       "      <td>7.813737e+06</td>\n",
       "    </tr>\n",
       "    <tr>\n",
       "      <th>mean</th>\n",
       "      <td>3.672796e+04</td>\n",
       "      <td>8.909072e+03</td>\n",
       "      <td>6.144030e+00</td>\n",
       "    </tr>\n",
       "    <tr>\n",
       "      <th>std</th>\n",
       "      <td>2.099795e+04</td>\n",
       "      <td>8.883950e+03</td>\n",
       "      <td>3.727800e+00</td>\n",
       "    </tr>\n",
       "    <tr>\n",
       "      <th>min</th>\n",
       "      <td>1.000000e+00</td>\n",
       "      <td>1.000000e+00</td>\n",
       "      <td>-1.000000e+00</td>\n",
       "    </tr>\n",
       "    <tr>\n",
       "      <th>25%</th>\n",
       "      <td>1.897400e+04</td>\n",
       "      <td>1.240000e+03</td>\n",
       "      <td>6.000000e+00</td>\n",
       "    </tr>\n",
       "    <tr>\n",
       "      <th>50%</th>\n",
       "      <td>3.679100e+04</td>\n",
       "      <td>6.213000e+03</td>\n",
       "      <td>7.000000e+00</td>\n",
       "    </tr>\n",
       "    <tr>\n",
       "      <th>75%</th>\n",
       "      <td>5.475700e+04</td>\n",
       "      <td>1.409300e+04</td>\n",
       "      <td>9.000000e+00</td>\n",
       "    </tr>\n",
       "    <tr>\n",
       "      <th>max</th>\n",
       "      <td>7.351600e+04</td>\n",
       "      <td>3.451900e+04</td>\n",
       "      <td>1.000000e+01</td>\n",
       "    </tr>\n",
       "  </tbody>\n",
       "</table>\n",
       "</div>"
      ],
      "text/plain": [
       "            user_id      anime_id        rating\n",
       "count  7.813737e+06  7.813737e+06  7.813737e+06\n",
       "mean   3.672796e+04  8.909072e+03  6.144030e+00\n",
       "std    2.099795e+04  8.883950e+03  3.727800e+00\n",
       "min    1.000000e+00  1.000000e+00 -1.000000e+00\n",
       "25%    1.897400e+04  1.240000e+03  6.000000e+00\n",
       "50%    3.679100e+04  6.213000e+03  7.000000e+00\n",
       "75%    5.475700e+04  1.409300e+04  9.000000e+00\n",
       "max    7.351600e+04  3.451900e+04  1.000000e+01"
      ]
     },
     "execution_count": 26,
     "metadata": {},
     "output_type": "execute_result"
    }
   ],
   "source": [
    "rating.describe()"
   ]
  },
  {
   "cell_type": "code",
   "execution_count": 27,
   "id": "5bf56b0c",
   "metadata": {
    "execution": {
     "iopub.execute_input": "2022-03-25T08:33:01.012056Z",
     "iopub.status.busy": "2022-03-25T08:33:01.011353Z",
     "iopub.status.idle": "2022-03-25T08:33:02.828023Z",
     "shell.execute_reply": "2022-03-25T08:33:02.828490Z",
     "shell.execute_reply.started": "2022-03-25T07:14:32.764037Z"
    },
    "papermill": {
     "duration": 1.866918,
     "end_time": "2022-03-25T08:33:02.828665",
     "exception": false,
     "start_time": "2022-03-25T08:33:00.961747",
     "status": "completed"
    },
    "tags": []
   },
   "outputs": [
    {
     "name": "stdout",
     "output_type": "stream",
     "text": [
      "[False  True]\n"
     ]
    }
   ],
   "source": [
    "print(rating.duplicated().unique()) #False only. Indicates that no duplicate rows"
   ]
  },
  {
   "cell_type": "code",
   "execution_count": 28,
   "id": "055db50c",
   "metadata": {
    "execution": {
     "iopub.execute_input": "2022-03-25T08:33:02.924783Z",
     "iopub.status.busy": "2022-03-25T08:33:02.924124Z",
     "iopub.status.idle": "2022-03-25T08:33:03.606256Z",
     "shell.execute_reply": "2022-03-25T08:33:03.605580Z",
     "shell.execute_reply.started": "2022-03-25T07:14:34.611407Z"
    },
    "papermill": {
     "duration": 0.734902,
     "end_time": "2022-03-25T08:33:03.606433",
     "exception": false,
     "start_time": "2022-03-25T08:33:02.871531",
     "status": "completed"
    },
    "tags": []
   },
   "outputs": [],
   "source": [
    "#drop rows which has rating of -1 (indicates no rating)\n",
    "rating = rating.drop(index= list(rating.loc[(rating[\"rating\"]==-1)].index) )"
   ]
  },
  {
   "cell_type": "code",
   "execution_count": 29,
   "id": "8548ed03",
   "metadata": {
    "execution": {
     "iopub.execute_input": "2022-03-25T08:33:03.702302Z",
     "iopub.status.busy": "2022-03-25T08:33:03.701690Z",
     "iopub.status.idle": "2022-03-25T08:33:03.705085Z",
     "shell.execute_reply": "2022-03-25T08:33:03.705518Z",
     "shell.execute_reply.started": "2022-03-25T07:14:35.266153Z"
    },
    "papermill": {
     "duration": 0.056084,
     "end_time": "2022-03-25T08:33:03.705705",
     "exception": false,
     "start_time": "2022-03-25T08:33:03.649621",
     "status": "completed"
    },
    "tags": []
   },
   "outputs": [
    {
     "name": "stdout",
     "output_type": "stream",
     "text": [
      "<class 'pandas.core.frame.DataFrame'>\n",
      "Int64Index: 6337241 entries, 47 to 7813736\n",
      "Data columns (total 3 columns):\n",
      " #   Column    Dtype\n",
      "---  ------    -----\n",
      " 0   user_id   int64\n",
      " 1   anime_id  int64\n",
      " 2   rating    int64\n",
      "dtypes: int64(3)\n",
      "memory usage: 193.4 MB\n"
     ]
    }
   ],
   "source": [
    "# only left with rated anime\n",
    "rating.info()"
   ]
  },
  {
   "cell_type": "code",
   "execution_count": 30,
   "id": "1f1801cd",
   "metadata": {
    "execution": {
     "iopub.execute_input": "2022-03-25T08:33:03.802683Z",
     "iopub.status.busy": "2022-03-25T08:33:03.802040Z",
     "iopub.status.idle": "2022-03-25T08:33:03.809679Z",
     "shell.execute_reply": "2022-03-25T08:33:03.810202Z",
     "shell.execute_reply.started": "2022-03-25T07:14:35.278952Z"
    },
    "papermill": {
     "duration": 0.059843,
     "end_time": "2022-03-25T08:33:03.810369",
     "exception": false,
     "start_time": "2022-03-25T08:33:03.750526",
     "status": "completed"
    },
    "tags": []
   },
   "outputs": [
    {
     "data": {
      "text/html": [
       "<div>\n",
       "<style scoped>\n",
       "    .dataframe tbody tr th:only-of-type {\n",
       "        vertical-align: middle;\n",
       "    }\n",
       "\n",
       "    .dataframe tbody tr th {\n",
       "        vertical-align: top;\n",
       "    }\n",
       "\n",
       "    .dataframe thead th {\n",
       "        text-align: right;\n",
       "    }\n",
       "</style>\n",
       "<table border=\"1\" class=\"dataframe\">\n",
       "  <thead>\n",
       "    <tr style=\"text-align: right;\">\n",
       "      <th></th>\n",
       "      <th>user_id</th>\n",
       "      <th>anime_id</th>\n",
       "      <th>rating</th>\n",
       "    </tr>\n",
       "  </thead>\n",
       "  <tbody>\n",
       "    <tr>\n",
       "      <th>47</th>\n",
       "      <td>1</td>\n",
       "      <td>8074</td>\n",
       "      <td>10</td>\n",
       "    </tr>\n",
       "    <tr>\n",
       "      <th>81</th>\n",
       "      <td>1</td>\n",
       "      <td>11617</td>\n",
       "      <td>10</td>\n",
       "    </tr>\n",
       "    <tr>\n",
       "      <th>83</th>\n",
       "      <td>1</td>\n",
       "      <td>11757</td>\n",
       "      <td>10</td>\n",
       "    </tr>\n",
       "    <tr>\n",
       "      <th>101</th>\n",
       "      <td>1</td>\n",
       "      <td>15451</td>\n",
       "      <td>10</td>\n",
       "    </tr>\n",
       "    <tr>\n",
       "      <th>153</th>\n",
       "      <td>2</td>\n",
       "      <td>11771</td>\n",
       "      <td>10</td>\n",
       "    </tr>\n",
       "    <tr>\n",
       "      <th>...</th>\n",
       "      <td>...</td>\n",
       "      <td>...</td>\n",
       "      <td>...</td>\n",
       "    </tr>\n",
       "    <tr>\n",
       "      <th>7813732</th>\n",
       "      <td>73515</td>\n",
       "      <td>16512</td>\n",
       "      <td>7</td>\n",
       "    </tr>\n",
       "    <tr>\n",
       "      <th>7813733</th>\n",
       "      <td>73515</td>\n",
       "      <td>17187</td>\n",
       "      <td>9</td>\n",
       "    </tr>\n",
       "    <tr>\n",
       "      <th>7813734</th>\n",
       "      <td>73515</td>\n",
       "      <td>22145</td>\n",
       "      <td>10</td>\n",
       "    </tr>\n",
       "    <tr>\n",
       "      <th>7813735</th>\n",
       "      <td>73516</td>\n",
       "      <td>790</td>\n",
       "      <td>9</td>\n",
       "    </tr>\n",
       "    <tr>\n",
       "      <th>7813736</th>\n",
       "      <td>73516</td>\n",
       "      <td>8074</td>\n",
       "      <td>9</td>\n",
       "    </tr>\n",
       "  </tbody>\n",
       "</table>\n",
       "<p>6337241 rows × 3 columns</p>\n",
       "</div>"
      ],
      "text/plain": [
       "         user_id  anime_id  rating\n",
       "47             1      8074      10\n",
       "81             1     11617      10\n",
       "83             1     11757      10\n",
       "101            1     15451      10\n",
       "153            2     11771      10\n",
       "...          ...       ...     ...\n",
       "7813732    73515     16512       7\n",
       "7813733    73515     17187       9\n",
       "7813734    73515     22145      10\n",
       "7813735    73516       790       9\n",
       "7813736    73516      8074       9\n",
       "\n",
       "[6337241 rows x 3 columns]"
      ]
     },
     "execution_count": 30,
     "metadata": {},
     "output_type": "execute_result"
    }
   ],
   "source": [
    "rating"
   ]
  },
  {
   "cell_type": "code",
   "execution_count": 31,
   "id": "67f40090",
   "metadata": {
    "execution": {
     "iopub.execute_input": "2022-03-25T08:33:03.905436Z",
     "iopub.status.busy": "2022-03-25T08:33:03.904840Z",
     "iopub.status.idle": "2022-03-25T08:33:07.541604Z",
     "shell.execute_reply": "2022-03-25T08:33:07.542075Z",
     "shell.execute_reply.started": "2022-03-25T07:14:35.293013Z"
    },
    "papermill": {
     "duration": 3.685657,
     "end_time": "2022-03-25T08:33:07.542242",
     "exception": false,
     "start_time": "2022-03-25T08:33:03.856585",
     "status": "completed"
    },
    "tags": []
   },
   "outputs": [
    {
     "data": {
      "text/html": [
       "<div>\n",
       "<style scoped>\n",
       "    .dataframe tbody tr th:only-of-type {\n",
       "        vertical-align: middle;\n",
       "    }\n",
       "\n",
       "    .dataframe tbody tr th {\n",
       "        vertical-align: top;\n",
       "    }\n",
       "\n",
       "    .dataframe thead th {\n",
       "        text-align: right;\n",
       "    }\n",
       "</style>\n",
       "<table border=\"1\" class=\"dataframe\">\n",
       "  <thead>\n",
       "    <tr style=\"text-align: right;\">\n",
       "      <th></th>\n",
       "      <th>anime_id</th>\n",
       "      <th>mean_rating</th>\n",
       "    </tr>\n",
       "  </thead>\n",
       "  <tbody>\n",
       "    <tr>\n",
       "      <th>0</th>\n",
       "      <td>1</td>\n",
       "      <td>8.869433</td>\n",
       "    </tr>\n",
       "    <tr>\n",
       "      <th>1</th>\n",
       "      <td>5</td>\n",
       "      <td>8.439724</td>\n",
       "    </tr>\n",
       "    <tr>\n",
       "      <th>2</th>\n",
       "      <td>6</td>\n",
       "      <td>8.419393</td>\n",
       "    </tr>\n",
       "    <tr>\n",
       "      <th>3</th>\n",
       "      <td>7</td>\n",
       "      <td>7.533426</td>\n",
       "    </tr>\n",
       "    <tr>\n",
       "      <th>4</th>\n",
       "      <td>8</td>\n",
       "      <td>7.198052</td>\n",
       "    </tr>\n",
       "    <tr>\n",
       "      <th>...</th>\n",
       "      <td>...</td>\n",
       "      <td>...</td>\n",
       "    </tr>\n",
       "    <tr>\n",
       "      <th>9922</th>\n",
       "      <td>34324</td>\n",
       "      <td>5.909091</td>\n",
       "    </tr>\n",
       "    <tr>\n",
       "      <th>9923</th>\n",
       "      <td>34325</td>\n",
       "      <td>7.333333</td>\n",
       "    </tr>\n",
       "    <tr>\n",
       "      <th>9924</th>\n",
       "      <td>34349</td>\n",
       "      <td>7.000000</td>\n",
       "    </tr>\n",
       "    <tr>\n",
       "      <th>9925</th>\n",
       "      <td>34367</td>\n",
       "      <td>5.250000</td>\n",
       "    </tr>\n",
       "    <tr>\n",
       "      <th>9926</th>\n",
       "      <td>34475</td>\n",
       "      <td>6.666667</td>\n",
       "    </tr>\n",
       "  </tbody>\n",
       "</table>\n",
       "<p>9927 rows × 2 columns</p>\n",
       "</div>"
      ],
      "text/plain": [
       "      anime_id  mean_rating\n",
       "0            1     8.869433\n",
       "1            5     8.439724\n",
       "2            6     8.419393\n",
       "3            7     7.533426\n",
       "4            8     7.198052\n",
       "...        ...          ...\n",
       "9922     34324     5.909091\n",
       "9923     34325     7.333333\n",
       "9924     34349     7.000000\n",
       "9925     34367     5.250000\n",
       "9926     34475     6.666667\n",
       "\n",
       "[9927 rows x 2 columns]"
      ]
     },
     "execution_count": 31,
     "metadata": {},
     "output_type": "execute_result"
    }
   ],
   "source": [
    "#group the data frame by anime_id\n",
    "grouped_anime_id = rating.groupby(rating[\"anime_id\"])\n",
    "\n",
    "#I am going to store the mean rating in dictionary\n",
    "mean_rating = {}\n",
    "\n",
    "#get the mean rating for every anime\n",
    "for id in list( grouped_anime_id.groups.keys() ):\n",
    "        mean_rating[id] = grouped_anime_id.get_group(id).rating.mean() \n",
    "        \n",
    "#convert mean_rating into data frame\n",
    "mean_rating_df = pd.DataFrame(mean_rating.items(), columns=[\"anime_id\", \"mean_rating\"])\n",
    "mean_rating_df"
   ]
  },
  {
   "cell_type": "code",
   "execution_count": 32,
   "id": "33be01d0",
   "metadata": {
    "execution": {
     "iopub.execute_input": "2022-03-25T08:33:07.646461Z",
     "iopub.status.busy": "2022-03-25T08:33:07.638103Z",
     "iopub.status.idle": "2022-03-25T08:33:07.649563Z",
     "shell.execute_reply": "2022-03-25T08:33:07.650028Z",
     "shell.execute_reply.started": "2022-03-25T07:14:39.309501Z"
    },
    "papermill": {
     "duration": 0.061179,
     "end_time": "2022-03-25T08:33:07.650201",
     "exception": false,
     "start_time": "2022-03-25T08:33:07.589022",
     "status": "completed"
    },
    "tags": []
   },
   "outputs": [
    {
     "data": {
      "text/html": [
       "<div>\n",
       "<style scoped>\n",
       "    .dataframe tbody tr th:only-of-type {\n",
       "        vertical-align: middle;\n",
       "    }\n",
       "\n",
       "    .dataframe tbody tr th {\n",
       "        vertical-align: top;\n",
       "    }\n",
       "\n",
       "    .dataframe thead th {\n",
       "        text-align: right;\n",
       "    }\n",
       "</style>\n",
       "<table border=\"1\" class=\"dataframe\">\n",
       "  <thead>\n",
       "    <tr style=\"text-align: right;\">\n",
       "      <th></th>\n",
       "      <th>anime_id</th>\n",
       "      <th>mean_rating</th>\n",
       "    </tr>\n",
       "  </thead>\n",
       "  <tbody>\n",
       "    <tr>\n",
       "      <th>0</th>\n",
       "      <td>1</td>\n",
       "      <td>8.869433</td>\n",
       "    </tr>\n",
       "    <tr>\n",
       "      <th>1</th>\n",
       "      <td>5</td>\n",
       "      <td>8.439724</td>\n",
       "    </tr>\n",
       "    <tr>\n",
       "      <th>2</th>\n",
       "      <td>6</td>\n",
       "      <td>8.419393</td>\n",
       "    </tr>\n",
       "    <tr>\n",
       "      <th>3</th>\n",
       "      <td>7</td>\n",
       "      <td>7.533426</td>\n",
       "    </tr>\n",
       "    <tr>\n",
       "      <th>4</th>\n",
       "      <td>8</td>\n",
       "      <td>7.198052</td>\n",
       "    </tr>\n",
       "    <tr>\n",
       "      <th>...</th>\n",
       "      <td>...</td>\n",
       "      <td>...</td>\n",
       "    </tr>\n",
       "    <tr>\n",
       "      <th>9922</th>\n",
       "      <td>34324</td>\n",
       "      <td>5.909091</td>\n",
       "    </tr>\n",
       "    <tr>\n",
       "      <th>9923</th>\n",
       "      <td>34325</td>\n",
       "      <td>7.333333</td>\n",
       "    </tr>\n",
       "    <tr>\n",
       "      <th>9924</th>\n",
       "      <td>34349</td>\n",
       "      <td>7.000000</td>\n",
       "    </tr>\n",
       "    <tr>\n",
       "      <th>9925</th>\n",
       "      <td>34367</td>\n",
       "      <td>5.250000</td>\n",
       "    </tr>\n",
       "    <tr>\n",
       "      <th>9926</th>\n",
       "      <td>34475</td>\n",
       "      <td>6.666667</td>\n",
       "    </tr>\n",
       "  </tbody>\n",
       "</table>\n",
       "<p>9927 rows × 2 columns</p>\n",
       "</div>"
      ],
      "text/plain": [
       "      anime_id  mean_rating\n",
       "0            1     8.869433\n",
       "1            5     8.439724\n",
       "2            6     8.419393\n",
       "3            7     7.533426\n",
       "4            8     7.198052\n",
       "...        ...          ...\n",
       "9922     34324     5.909091\n",
       "9923     34325     7.333333\n",
       "9924     34349     7.000000\n",
       "9925     34367     5.250000\n",
       "9926     34475     6.666667\n",
       "\n",
       "[9927 rows x 2 columns]"
      ]
     },
     "execution_count": 32,
     "metadata": {},
     "output_type": "execute_result"
    }
   ],
   "source": [
    "mean_rating_df"
   ]
  },
  {
   "cell_type": "code",
   "execution_count": 33,
   "id": "d91f47ef",
   "metadata": {
    "execution": {
     "iopub.execute_input": "2022-03-25T08:33:07.748526Z",
     "iopub.status.busy": "2022-03-25T08:33:07.745490Z",
     "iopub.status.idle": "2022-03-25T08:33:07.771764Z",
     "shell.execute_reply": "2022-03-25T08:33:07.772292Z",
     "shell.execute_reply.started": "2022-03-25T07:47:37.455165Z"
    },
    "papermill": {
     "duration": 0.075293,
     "end_time": "2022-03-25T08:33:07.772493",
     "exception": false,
     "start_time": "2022-03-25T08:33:07.697200",
     "status": "completed"
    },
    "tags": []
   },
   "outputs": [
    {
     "data": {
      "text/html": [
       "<div>\n",
       "<style scoped>\n",
       "    .dataframe tbody tr th:only-of-type {\n",
       "        vertical-align: middle;\n",
       "    }\n",
       "\n",
       "    .dataframe tbody tr th {\n",
       "        vertical-align: top;\n",
       "    }\n",
       "\n",
       "    .dataframe thead th {\n",
       "        text-align: right;\n",
       "    }\n",
       "</style>\n",
       "<table border=\"1\" class=\"dataframe\">\n",
       "  <thead>\n",
       "    <tr style=\"text-align: right;\">\n",
       "      <th></th>\n",
       "      <th>anime_id</th>\n",
       "      <th>name</th>\n",
       "      <th>genre</th>\n",
       "      <th>type</th>\n",
       "      <th>episodes</th>\n",
       "      <th>rating</th>\n",
       "      <th>members</th>\n",
       "      <th>mean_rating</th>\n",
       "    </tr>\n",
       "  </thead>\n",
       "  <tbody>\n",
       "    <tr>\n",
       "      <th>0</th>\n",
       "      <td>1</td>\n",
       "      <td>Cowboy Bebop</td>\n",
       "      <td>Action, Adventure, Comedy, Drama, Sci-Fi, Space</td>\n",
       "      <td>TV</td>\n",
       "      <td>26</td>\n",
       "      <td>8.82</td>\n",
       "      <td>486824</td>\n",
       "      <td>8.869433</td>\n",
       "    </tr>\n",
       "    <tr>\n",
       "      <th>1</th>\n",
       "      <td>5</td>\n",
       "      <td>Cowboy Bebop: Tengoku no Tobira</td>\n",
       "      <td>Action, Drama, Mystery, Sci-Fi, Space</td>\n",
       "      <td>Movie</td>\n",
       "      <td>1</td>\n",
       "      <td>8.40</td>\n",
       "      <td>137636</td>\n",
       "      <td>8.439724</td>\n",
       "    </tr>\n",
       "    <tr>\n",
       "      <th>2</th>\n",
       "      <td>6</td>\n",
       "      <td>Trigun</td>\n",
       "      <td>Action, Comedy, Sci-Fi</td>\n",
       "      <td>TV</td>\n",
       "      <td>26</td>\n",
       "      <td>8.32</td>\n",
       "      <td>283069</td>\n",
       "      <td>8.419393</td>\n",
       "    </tr>\n",
       "    <tr>\n",
       "      <th>3</th>\n",
       "      <td>7</td>\n",
       "      <td>Witch Hunter Robin</td>\n",
       "      <td>Action, Drama, Magic, Mystery, Police, Superna...</td>\n",
       "      <td>TV</td>\n",
       "      <td>26</td>\n",
       "      <td>7.36</td>\n",
       "      <td>64905</td>\n",
       "      <td>7.533426</td>\n",
       "    </tr>\n",
       "    <tr>\n",
       "      <th>4</th>\n",
       "      <td>8</td>\n",
       "      <td>Beet the Vandel Buster</td>\n",
       "      <td>Adventure, Fantasy, Shounen, Supernatural</td>\n",
       "      <td>TV</td>\n",
       "      <td>52</td>\n",
       "      <td>7.06</td>\n",
       "      <td>9848</td>\n",
       "      <td>7.198052</td>\n",
       "    </tr>\n",
       "    <tr>\n",
       "      <th>...</th>\n",
       "      <td>...</td>\n",
       "      <td>...</td>\n",
       "      <td>...</td>\n",
       "      <td>...</td>\n",
       "      <td>...</td>\n",
       "      <td>...</td>\n",
       "      <td>...</td>\n",
       "      <td>...</td>\n",
       "    </tr>\n",
       "    <tr>\n",
       "      <th>9889</th>\n",
       "      <td>34324</td>\n",
       "      <td>Chiryokumaru</td>\n",
       "      <td>Action</td>\n",
       "      <td>ONA</td>\n",
       "      <td>1</td>\n",
       "      <td>5.40</td>\n",
       "      <td>817</td>\n",
       "      <td>5.909091</td>\n",
       "    </tr>\n",
       "    <tr>\n",
       "      <th>9890</th>\n",
       "      <td>34325</td>\n",
       "      <td>Pokemon XY&amp;amp;Z Specials</td>\n",
       "      <td>Action, Adventure, Comedy, Fantasy, Kids</td>\n",
       "      <td>Special</td>\n",
       "      <td>2</td>\n",
       "      <td>7.05</td>\n",
       "      <td>1454</td>\n",
       "      <td>7.333333</td>\n",
       "    </tr>\n",
       "    <tr>\n",
       "      <th>9891</th>\n",
       "      <td>34349</td>\n",
       "      <td>Diamond no Ace: Second Season OVA</td>\n",
       "      <td>Comedy, School, Shounen, Sports</td>\n",
       "      <td>OVA</td>\n",
       "      <td>2</td>\n",
       "      <td>7.25</td>\n",
       "      <td>1885</td>\n",
       "      <td>7.000000</td>\n",
       "    </tr>\n",
       "    <tr>\n",
       "      <th>9892</th>\n",
       "      <td>34367</td>\n",
       "      <td>Long Riders Recap</td>\n",
       "      <td>Comedy, Shounen, Slice of Life, Sports</td>\n",
       "      <td>Special</td>\n",
       "      <td>1</td>\n",
       "      <td>5.97</td>\n",
       "      <td>582</td>\n",
       "      <td>5.250000</td>\n",
       "    </tr>\n",
       "    <tr>\n",
       "      <th>9893</th>\n",
       "      <td>34475</td>\n",
       "      <td>Monster Strike: Rain of Memories</td>\n",
       "      <td>Action, Fantasy, Game</td>\n",
       "      <td>ONA</td>\n",
       "      <td>1</td>\n",
       "      <td>6.58</td>\n",
       "      <td>313</td>\n",
       "      <td>6.666667</td>\n",
       "    </tr>\n",
       "  </tbody>\n",
       "</table>\n",
       "<p>9894 rows × 8 columns</p>\n",
       "</div>"
      ],
      "text/plain": [
       "      anime_id                               name  \\\n",
       "0            1                       Cowboy Bebop   \n",
       "1            5    Cowboy Bebop: Tengoku no Tobira   \n",
       "2            6                             Trigun   \n",
       "3            7                 Witch Hunter Robin   \n",
       "4            8             Beet the Vandel Buster   \n",
       "...        ...                                ...   \n",
       "9889     34324                       Chiryokumaru   \n",
       "9890     34325          Pokemon XY&amp;Z Specials   \n",
       "9891     34349  Diamond no Ace: Second Season OVA   \n",
       "9892     34367                  Long Riders Recap   \n",
       "9893     34475   Monster Strike: Rain of Memories   \n",
       "\n",
       "                                                  genre     type episodes  \\\n",
       "0       Action, Adventure, Comedy, Drama, Sci-Fi, Space       TV       26   \n",
       "1                 Action, Drama, Mystery, Sci-Fi, Space    Movie        1   \n",
       "2                                Action, Comedy, Sci-Fi       TV       26   \n",
       "3     Action, Drama, Magic, Mystery, Police, Superna...       TV       26   \n",
       "4             Adventure, Fantasy, Shounen, Supernatural       TV       52   \n",
       "...                                                 ...      ...      ...   \n",
       "9889                                             Action      ONA        1   \n",
       "9890           Action, Adventure, Comedy, Fantasy, Kids  Special        2   \n",
       "9891                    Comedy, School, Shounen, Sports      OVA        2   \n",
       "9892             Comedy, Shounen, Slice of Life, Sports  Special        1   \n",
       "9893                              Action, Fantasy, Game      ONA        1   \n",
       "\n",
       "      rating  members  mean_rating  \n",
       "0       8.82   486824     8.869433  \n",
       "1       8.40   137636     8.439724  \n",
       "2       8.32   283069     8.419393  \n",
       "3       7.36    64905     7.533426  \n",
       "4       7.06     9848     7.198052  \n",
       "...      ...      ...          ...  \n",
       "9889    5.40      817     5.909091  \n",
       "9890    7.05     1454     7.333333  \n",
       "9891    7.25     1885     7.000000  \n",
       "9892    5.97      582     5.250000  \n",
       "9893    6.58      313     6.666667  \n",
       "\n",
       "[9894 rows x 8 columns]"
      ]
     },
     "execution_count": 33,
     "metadata": {},
     "output_type": "execute_result"
    }
   ],
   "source": [
    "#set index as anime_id to join with anime data set later\n",
    "mean_rating_df.set_index(\"anime_id\")\n",
    "\n",
    "anime_merged = pd.merge(anime, mean_rating_df, on=[\"anime_id\"])\n",
    "anime_merged\n"
   ]
  },
  {
   "cell_type": "code",
   "execution_count": 34,
   "id": "5588c953",
   "metadata": {
    "execution": {
     "iopub.execute_input": "2022-03-25T08:33:07.872294Z",
     "iopub.status.busy": "2022-03-25T08:33:07.871671Z",
     "iopub.status.idle": "2022-03-25T08:33:08.186635Z",
     "shell.execute_reply": "2022-03-25T08:33:08.186154Z",
     "shell.execute_reply.started": "2022-03-25T07:56:23.482142Z"
    },
    "papermill": {
     "duration": 0.366631,
     "end_time": "2022-03-25T08:33:08.186778",
     "exception": false,
     "start_time": "2022-03-25T08:33:07.820147",
     "status": "completed"
    },
    "tags": []
   },
   "outputs": [
    {
     "data": {
      "text/plain": [
       "<AxesSubplot:>"
      ]
     },
     "execution_count": 34,
     "metadata": {},
     "output_type": "execute_result"
    },
    {
     "data": {
      "image/png": "[encoded data removed]",
      "text/plain": [
       "<Figure size 1152x864 with 2 Axes>"
      ]
     },
     "metadata": {
      "needs_background": "light"
     },
     "output_type": "display_data"
    }
   ],
   "source": [
    "plt.figure(figsize=(16,12))\n",
    "sns.heatmap(anime_merged.corr(), annot=True)\n"
   ]
  },
  {
   "cell_type": "code",
   "execution_count": 35,
   "id": "9a849768",
   "metadata": {
    "execution": {
     "iopub.execute_input": "2022-03-25T08:33:08.289625Z",
     "iopub.status.busy": "2022-03-25T08:33:08.289004Z",
     "iopub.status.idle": "2022-03-25T08:33:08.610648Z",
     "shell.execute_reply": "2022-03-25T08:33:08.610049Z",
     "shell.execute_reply.started": "2022-03-25T08:10:22.250124Z"
    },
    "papermill": {
     "duration": 0.376108,
     "end_time": "2022-03-25T08:33:08.610791",
     "exception": false,
     "start_time": "2022-03-25T08:33:08.234683",
     "status": "completed"
    },
    "tags": []
   },
   "outputs": [
    {
     "name": "stderr",
     "output_type": "stream",
     "text": [
      "/opt/conda/lib/python3.7/site-packages/seaborn/distributions.py:2619: FutureWarning: `distplot` is a deprecated function and will be removed in a future version. Please adapt your code to use either `displot` (a figure-level function with similar flexibility) or `histplot` (an axes-level function for histograms).\n",
      "  warnings.warn(msg, FutureWarning)\n"
     ]
    },
    {
     "data": {
      "text/plain": [
       "<AxesSubplot:xlabel='rating', ylabel='Density'>"
      ]
     },
     "execution_count": 35,
     "metadata": {},
     "output_type": "execute_result"
    },
    {
     "data": {
      "image/png": "[encoded data removed]",
      "text/plain": [
       "<Figure size 432x288 with 1 Axes>"
      ]
     },
     "metadata": {
      "needs_background": "light"
     },
     "output_type": "display_data"
    }
   ],
   "source": [
    "from scipy.stats import norm\n",
    "sns.distplot(anime_merged[\"rating\"], kde=True, fit=norm)"
   ]
  },
  {
   "cell_type": "code",
   "execution_count": 36,
   "id": "ce5e3b26",
   "metadata": {
    "execution": {
     "iopub.execute_input": "2022-03-25T08:33:08.713345Z",
     "iopub.status.busy": "2022-03-25T08:33:08.712763Z",
     "iopub.status.idle": "2022-03-25T08:33:08.923345Z",
     "shell.execute_reply": "2022-03-25T08:33:08.924153Z",
     "shell.execute_reply.started": "2022-03-25T08:11:31.235097Z"
    },
    "papermill": {
     "duration": 0.264277,
     "end_time": "2022-03-25T08:33:08.924359",
     "exception": false,
     "start_time": "2022-03-25T08:33:08.660082",
     "status": "completed"
    },
    "tags": []
   },
   "outputs": [
    {
     "name": "stderr",
     "output_type": "stream",
     "text": [
      "/opt/conda/lib/python3.7/site-packages/ipykernel_launcher.py:2: FutureWarning: Dropping of nuisance columns in DataFrame reductions (with 'numeric_only=None') is deprecated; in a future version this will raise TypeError.  Select only valid columns before calling the reduction.\n",
      "  \n",
      "/opt/conda/lib/python3.7/site-packages/seaborn/distributions.py:2619: FutureWarning: `distplot` is a deprecated function and will be removed in a future version. Please adapt your code to use either `displot` (a figure-level function with similar flexibility) or `histplot` (an axes-level function for histograms).\n",
      "  warnings.warn(msg, FutureWarning)\n"
     ]
    },
    {
     "data": {
      "text/plain": [
       "<AxesSubplot:xlabel='skewness', ylabel='Density'>"
      ]
     },
     "execution_count": 36,
     "metadata": {},
     "output_type": "execute_result"
    },
    {
     "data": {
      "image/png": "[encoded data removed]",
      "text/plain": [
       "<Figure size 432x288 with 1 Axes>"
      ]
     },
     "metadata": {
      "needs_background": "light"
     },
     "output_type": "display_data"
    }
   ],
   "source": [
    "#skewness\n",
    "sns.distplot(anime_merged.skew(), color=\"blue\", axlabel=\"skewness\")"
   ]
  },
  {
   "cell_type": "code",
   "execution_count": 37,
   "id": "72d984ca",
   "metadata": {
    "execution": {
     "iopub.execute_input": "2022-03-25T08:33:09.034772Z",
     "iopub.status.busy": "2022-03-25T08:33:09.029971Z",
     "iopub.status.idle": "2022-03-25T08:33:09.256765Z",
     "shell.execute_reply": "2022-03-25T08:33:09.257243Z",
     "shell.execute_reply.started": "2022-03-25T08:12:56.055751Z"
    },
    "papermill": {
     "duration": 0.282661,
     "end_time": "2022-03-25T08:33:09.257433",
     "exception": false,
     "start_time": "2022-03-25T08:33:08.974772",
     "status": "completed"
    },
    "tags": []
   },
   "outputs": [
    {
     "name": "stderr",
     "output_type": "stream",
     "text": [
      "/opt/conda/lib/python3.7/site-packages/ipykernel_launcher.py:2: FutureWarning: Dropping of nuisance columns in DataFrame reductions (with 'numeric_only=None') is deprecated; in a future version this will raise TypeError.  Select only valid columns before calling the reduction.\n",
      "  \n",
      "/opt/conda/lib/python3.7/site-packages/seaborn/distributions.py:2619: FutureWarning: `distplot` is a deprecated function and will be removed in a future version. Please adapt your code to use either `displot` (a figure-level function with similar flexibility) or `histplot` (an axes-level function for histograms).\n",
      "  warnings.warn(msg, FutureWarning)\n"
     ]
    },
    {
     "data": {
      "text/plain": [
       "<AxesSubplot:xlabel='Kurtosis', ylabel='Density'>"
      ]
     },
     "execution_count": 37,
     "metadata": {},
     "output_type": "execute_result"
    },
    {
     "data": {
      "image/png": "[encoded data removed]",
      "text/plain": [
       "<Figure size 432x288 with 1 Axes>"
      ]
     },
     "metadata": {
      "needs_background": "light"
     },
     "output_type": "display_data"
    }
   ],
   "source": [
    "#kurtosis\n",
    "sns.distplot(anime_merged.kurt(), color=\"red\", axlabel=\"Kurtosis\", norm_hist=False, kde=True, rug=False)"
   ]
  },
  {
   "cell_type": "code",
   "execution_count": 38,
   "id": "3253c299",
   "metadata": {
    "execution": {
     "iopub.execute_input": "2022-03-25T08:33:09.366780Z",
     "iopub.status.busy": "2022-03-25T08:33:09.366148Z",
     "iopub.status.idle": "2022-03-25T08:33:12.707083Z",
     "shell.execute_reply": "2022-03-25T08:33:12.706460Z",
     "shell.execute_reply.started": "2022-03-25T08:21:23.861148Z"
    },
    "papermill": {
     "duration": 3.396307,
     "end_time": "2022-03-25T08:33:12.707221",
     "exception": false,
     "start_time": "2022-03-25T08:33:09.310914",
     "status": "completed"
    },
    "tags": []
   },
   "outputs": [
    {
     "name": "stderr",
     "output_type": "stream",
     "text": [
      "/opt/conda/lib/python3.7/site-packages/seaborn/axisgrid.py:2076: UserWarning: The `size` parameter has been renamed to `height`; please update your code.\n",
      "  warnings.warn(msg, UserWarning)\n"
     ]
    },
    {
     "data": {
      "text/plain": [
       "<seaborn.axisgrid.PairGrid at 0x7f3c18269250>"
      ]
     },
     "execution_count": 38,
     "metadata": {},
     "output_type": "execute_result"
    },
    {
     "data": {
      "image/png": "[encoded data removed]",
      "text/plain": [
       "<Figure size 576x576 with 20 Axes>"
      ]
     },
     "metadata": {
      "needs_background": "light"
     },
     "output_type": "display_data"
    }
   ],
   "source": [
    "sns.pairplot(anime_merged, size=2, kind=\"scatter\", diag_kind=\"kde\")"
   ]
  }
 ],
 "metadata": {
  "kernelspec": {
   "display_name": "Python 3",
   "language": "python",
   "name": "python3"
  },
  "language_info": {
   "codemirror_mode": {
    "name": "ipython",
    "version": 3
   },
   "file_extension": ".py",
   "mimetype": "text/x-python",
   "name": "python",
   "nbconvert_exporter": "python",
   "pygments_lexer": "ipython3",
   "version": "3.7.12"
  },
  "papermill": {
   "default_parameters": {},
   "duration": 31.803461,
   "end_time": "2022-03-25T08:33:13.578669",
   "environment_variables": {},
   "exception": null,
   "input_path": "__notebook__.ipynb",
   "output_path": "__notebook__.ipynb",
   "parameters": {},
   "start_time": "2022-03-25T08:32:41.775208",
   "version": "2.3.3"
  }
 },
 "nbformat": 4,
 "nbformat_minor": 5
}
